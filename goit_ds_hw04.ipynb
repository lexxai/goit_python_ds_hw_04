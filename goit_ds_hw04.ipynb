{
  "nbformat": 4,
  "nbformat_minor": 0,
  "metadata": {
    "anaconda-cloud": {},
    "kernelspec": {
      "display_name": "Python 2",
      "language": "python",
      "name": "python2"
    },
    "language_info": {
      "codemirror_mode": {
        "name": "ipython",
        "version": 2
      },
      "file_extension": ".py",
      "mimetype": "text/x-python",
      "name": "python",
      "nbconvert_exporter": "python",
      "pygments_lexer": "ipython2",
      "version": "2.7.15"
    },
    "colab": {
      "provenance": [],
      "collapsed_sections": [
        "HfDdtKCUMcP3",
        "SjMpCw9tMht2",
        "U1KoOcG3NSso"
      ],
      "include_colab_link": true
    }
  },
  "cells": [
    {
      "cell_type": "markdown",
      "metadata": {
        "id": "view-in-github",
        "colab_type": "text"
      },
      "source": [
        "<a href=\"https://colab.research.google.com/github/lexxai/goit_python_ds_hw_04/blob/main/goit_ds_hw04.ipynb\" target=\"_parent\"><img src=\"https://colab.research.google.com/assets/colab-badge.svg\" alt=\"Open In Colab\"/></a>"
      ]
    },
    {
      "cell_type": "markdown",
      "metadata": {
        "id": "QH4MTNLJF0cX"
      },
      "source": [
        "# Лінійна регресія: перенавчання та регуляризація\n",
        "\n",
        "\n"
      ]
    },
    {
      "cell_type": "markdown",
      "metadata": {
        "id": "_4Ozl-xzF0cb"
      },
      "source": [
        "У цьому завданні ми на прикладах побачимо, як перенавчаються лінійні моделі, розберемо, чому так відбувається, і з'ясуємо, як діагностувати та контролювати перенавчання.\n",
        "\n",
        "У всіх комірках, де написаний коментар з інструкціями, потрібно написати код, що виконує ці інструкції. Решту клітинок із кодом (без коментарів) потрібно просто виконати. Крім того, у завданні потрібно відповідати на запитання; відповіді потрібно вписувати після виділеного слова \"__Відповідь:__\"."
      ]
    },
    {
      "cell_type": "code",
      "metadata": {
        "id": "Q7qwUYsiF0cc"
      },
      "source": [
        "import pandas as pd\n",
        "import numpy as np\n",
        "from matplotlib import pyplot as plt\n",
        "%matplotlib inline"
      ],
      "execution_count": 347,
      "outputs": []
    },
    {
      "cell_type": "markdown",
      "metadata": {
        "id": "lAIZa5LXF0ce"
      },
      "source": [
        "Ми працюватимемо з датасетом __\"bikes_rent.csv\"__, у якому по днях записано календарну інформацію та погодні умови, що характеризують автоматизовані пункти прокату велосипедів, а також кількість прокатів у цей день. Останнє ми будемо передбачати; таким чином, ми будемо розв'язувати задачу регресії."
      ]
    },
    {
      "cell_type": "markdown",
      "metadata": {
        "id": "bL3VD-Z9F0ce"
      },
      "source": [
        "### Знайомство з даними"
      ]
    },
    {
      "cell_type": "markdown",
      "metadata": {
        "id": "PlxEpVFqghIe"
      },
      "source": [
        "## Завдання 1"
      ]
    },
    {
      "cell_type": "markdown",
      "metadata": {
        "id": "5HYQjYnVF0cf"
      },
      "source": [
        "Завантажте датасет за допомогою функції __pandas.read_csv__ у змінну __df__. Виведіть перші 5 рядків, щоб переконатися в коректному зчитуванні даних:"
      ]
    },
    {
      "cell_type": "code",
      "metadata": {
        "id": "moafDqLOF0cf"
      },
      "source": [
        "df = pd.read_csv(\"https://drive.usercontent.google.com/download?id=1iabVEvH3jcxRWY6whRYMMV9fwGHMASLs&export=download&authuser=0\")"
      ],
      "execution_count": 348,
      "outputs": []
    },
    {
      "cell_type": "code",
      "source": [
        "df.info()"
      ],
      "metadata": {
        "colab": {
          "base_uri": "https://localhost:8080/"
        },
        "id": "S7R_cbMZ79Dq",
        "outputId": "98e49b4d-0d21-4ed2-cbdd-858ac4492981"
      },
      "execution_count": 349,
      "outputs": [
        {
          "output_type": "stream",
          "name": "stdout",
          "text": [
            "<class 'pandas.core.frame.DataFrame'>\n",
            "RangeIndex: 731 entries, 0 to 730\n",
            "Data columns (total 13 columns):\n",
            " #   Column          Non-Null Count  Dtype  \n",
            "---  ------          --------------  -----  \n",
            " 0   season          731 non-null    int64  \n",
            " 1   yr              731 non-null    int64  \n",
            " 2   mnth            731 non-null    int64  \n",
            " 3   holiday         731 non-null    int64  \n",
            " 4   weekday         731 non-null    int64  \n",
            " 5   workingday      731 non-null    int64  \n",
            " 6   weathersit      731 non-null    int64  \n",
            " 7   temp            731 non-null    float64\n",
            " 8   atemp           731 non-null    float64\n",
            " 9   hum             731 non-null    float64\n",
            " 10  windspeed(mph)  731 non-null    float64\n",
            " 11  windspeed(ms)   731 non-null    float64\n",
            " 12  cnt             731 non-null    int64  \n",
            "dtypes: float64(5), int64(8)\n",
            "memory usage: 74.4 KB\n"
          ]
        }
      ]
    },
    {
      "cell_type": "markdown",
      "metadata": {
        "id": "arebsdFoF0ch"
      },
      "source": [
        "Для кожного дня прокату відомі такі ознаки:\n",
        "* _season_: 1 - весна, 2 - літо, 3 - осінь, 4 - зима\n",
        "* _yr_: 0 - 2011, 1 - 2012\n",
        "* _mnth_: від 1 до 12\n",
        "* _holiday_: 0 - немає свята, 1 - є свято\n",
        "* _weekday_: від 0 до 6\n",
        "* _workingday_: 0 - неробочий день, 1 - робочий день\n",
        "* _weathersit_: оцінка сприятливості погоди від 1 (чистий, ясний день) до 4 (злива, туман)\n",
        "* _temp_: температура в Цельсіях\n",
        "* _atemp_: температура за відчуттями в Цельсіях\n",
        "* _hum_: вологість\n",
        "* _windspeed(mph)_: швидкість вітру в милях на годину\n",
        "* _windspeed(ms)_: швидкість вітру в метрах за секунду\n",
        "* _cnt_: кількість орендованих велосипедів (це цільова ознака, її ми будемо передбачати)\n",
        "\n",
        "Отже, у нас є речовинні, бінарні та номінальні (порядкові) ознаки, і з усіма з них можна працювати як з речовими. З номінальними ознаками теж можна працювати як з дійсними, тому що на них задано порядок. Давайте подивимося на графіках, як цільова ознака залежить від інших"
      ]
    },
    {
      "cell_type": "markdown",
      "metadata": {
        "id": "w_bf05QXe60r"
      },
      "source": [
        "Побудуйте графіки залежностей атрибутів від кількості поїздок. Іншими словами вам потрібно побудувати 12 графіків. На кожному має бути зображено залежність чергового атрибута від змінної **cnt**."
      ]
    },
    {
      "cell_type": "code",
      "metadata": {
        "id": "N72yVVRYF0ci",
        "colab": {
          "base_uri": "https://localhost:8080/"
        },
        "outputId": "b7b1af62-3636-4732-c4e7-40498039d8bc"
      },
      "source": [
        "df.info()\n"
      ],
      "execution_count": 350,
      "outputs": [
        {
          "output_type": "stream",
          "name": "stdout",
          "text": [
            "<class 'pandas.core.frame.DataFrame'>\n",
            "RangeIndex: 731 entries, 0 to 730\n",
            "Data columns (total 13 columns):\n",
            " #   Column          Non-Null Count  Dtype  \n",
            "---  ------          --------------  -----  \n",
            " 0   season          731 non-null    int64  \n",
            " 1   yr              731 non-null    int64  \n",
            " 2   mnth            731 non-null    int64  \n",
            " 3   holiday         731 non-null    int64  \n",
            " 4   weekday         731 non-null    int64  \n",
            " 5   workingday      731 non-null    int64  \n",
            " 6   weathersit      731 non-null    int64  \n",
            " 7   temp            731 non-null    float64\n",
            " 8   atemp           731 non-null    float64\n",
            " 9   hum             731 non-null    float64\n",
            " 10  windspeed(mph)  731 non-null    float64\n",
            " 11  windspeed(ms)   731 non-null    float64\n",
            " 12  cnt             731 non-null    int64  \n",
            "dtypes: float64(5), int64(8)\n",
            "memory usage: 74.4 KB\n"
          ]
        }
      ]
    },
    {
      "cell_type": "code",
      "source": [
        "df_features = df.columns[:-1]\n",
        "df_target = df.columns[-1]\n",
        "# print(f\"{df_features=}\")\n",
        "# print(f\"{df_target=}\")"
      ],
      "metadata": {
        "id": "sJKmVfWV-apN"
      },
      "execution_count": 351,
      "outputs": []
    },
    {
      "source": [
        "from matplotlib import pyplot as plt\n",
        "import seaborn as sns\n",
        "\n",
        "def plot_series(ax, df, xlabel, ylabel):\n",
        "  xs = df[xlabel]\n",
        "  ys =  df[ylabel]\n",
        "  ax.set_title(f'{ylabel} from {xlabel}')\n",
        "  ax.set_xlabel(xlabel)\n",
        "  ax.set_ylabel(ylabel)\n",
        "  ax.bar(xs, ys)"
      ],
      "cell_type": "code",
      "metadata": {
        "id": "ZjjVccJ_9GId"
      },
      "execution_count": 352,
      "outputs": []
    },
    {
      "cell_type": "code",
      "source": [
        "cols = 3\n",
        "fig, axs = plt.subplots( len(df_features) // cols, cols, figsize=(16,8), layout='constrained')\n",
        "\n",
        "for ax, feature in zip(axs.flat, df_features):\n",
        " plot_series(ax, df, feature, df_target  )"
      ],
      "metadata": {
        "colab": {
          "base_uri": "https://localhost:8080/",
          "height": 54
        },
        "id": "iaOwF7XT9p8M",
        "outputId": "2a91b1ad-7516-45e0-b6d3-a66af5d96b3c"
      },
      "execution_count": 353,
      "outputs": [
        {
          "output_type": "display_data",
          "data": {
            "text/plain": [
              "<Figure size 1600x800 with 12 Axes>"
            ],
            "image/png": "[encoded data removed]"
          },
          "metadata": {}
        }
      ]
    },
    {
      "cell_type": "markdown",
      "metadata": {
        "id": "1g8iwiimF0cj"
      },
      "source": [
        "__Питання:__\n",
        "1. Який характер залежності числа прокатів від місяця?\n",
        "1. Укажіть одну або дві ознаки, від яких число прокатів найімовірніше залежить лінійно"
      ]
    },
    {
      "cell_type": "markdown",
      "source": [
        "1. ???\n",
        "2. Temp, Hum"
      ],
      "metadata": {
        "id": "Px_g2ca-HoWM"
      }
    },
    {
      "cell_type": "markdown",
      "source": [
        "## Завдання 2"
      ],
      "metadata": {
        "id": "QoI8kWceNFil"
      }
    },
    {
      "cell_type": "markdown",
      "metadata": {
        "id": "rB2NCSXbF0cj"
      },
      "source": [
        "Давайте суворіше оцінимо рівень лінійної залежності між ознаками та цільовою змінною. Доброю мірою лінійної залежності між двома векторами є кореляція Пірсона. Нам уже доводилося мати з нею справу раніше. Для її обчислення в pandas можна використовувати методи датафрейму: corr і corrwith."
      ]
    },
    {
      "cell_type": "markdown",
      "metadata": {
        "id": "ykR_leNKF0ck"
      },
      "source": [
        "Порахуйте кореляції всіх ознак, крім останньої, з останньою за допомогою методу `corrwith`."
      ]
    },
    {
      "cell_type": "code",
      "source": [
        "df[df_features].corr()"
      ],
      "metadata": {
        "colab": {
          "base_uri": "https://localhost:8080/",
          "height": 446
        },
        "id": "owRiYe18IiNL",
        "outputId": "e62b7fd6-f808-4caf-e361-baf0457cfff5"
      },
      "execution_count": 354,
      "outputs": [
        {
          "output_type": "execute_result",
          "data": {
            "text/plain": [
              "                  season        yr      mnth   holiday   weekday  workingday  \\\n",
              "season          1.000000 -0.001844  0.831440 -0.010537 -0.003080    0.012485   \n",
              "yr             -0.001844  1.000000 -0.001792  0.007954 -0.005461   -0.002013   \n",
              "mnth            0.831440 -0.001792  1.000000  0.019191  0.009509   -0.005901   \n",
              "holiday        -0.010537  0.007954  0.019191  1.000000 -0.101960   -0.253023   \n",
              "weekday        -0.003080 -0.005461  0.009509 -0.101960  1.000000    0.035790   \n",
              "workingday      0.012485 -0.002013 -0.005901 -0.253023  0.035790    1.000000   \n",
              "weathersit      0.019211 -0.048727  0.043528 -0.034627  0.031087    0.061200   \n",
              "temp            0.334315  0.047604  0.220205 -0.028556 -0.000170    0.052660   \n",
              "atemp           0.342876  0.046106  0.227459 -0.032507 -0.007537    0.052182   \n",
              "hum             0.205445 -0.110651  0.222204 -0.015937 -0.052232    0.024327   \n",
              "windspeed(mph) -0.229046 -0.011817 -0.207502  0.006292  0.014282   -0.018796   \n",
              "windspeed(ms)  -0.229046 -0.011817 -0.207502  0.006292  0.014282   -0.018796   \n",
              "\n",
              "                weathersit      temp     atemp       hum  windspeed(mph)  \\\n",
              "season            0.019211  0.334315  0.342876  0.205445       -0.229046   \n",
              "yr               -0.048727  0.047604  0.046106 -0.110651       -0.011817   \n",
              "mnth              0.043528  0.220205  0.227459  0.222204       -0.207502   \n",
              "holiday          -0.034627 -0.028556 -0.032507 -0.015937        0.006292   \n",
              "weekday           0.031087 -0.000170 -0.007537 -0.052232        0.014282   \n",
              "workingday        0.061200  0.052660  0.052182  0.024327       -0.018796   \n",
              "weathersit        1.000000 -0.120602 -0.121583  0.591045        0.039511   \n",
              "temp             -0.120602  1.000000  0.991702  0.126963       -0.157944   \n",
              "atemp            -0.121583  0.991702  1.000000  0.139988       -0.183643   \n",
              "hum               0.591045  0.126963  0.139988  1.000000       -0.248489   \n",
              "windspeed(mph)    0.039511 -0.157944 -0.183643 -0.248489        1.000000   \n",
              "windspeed(ms)     0.039511 -0.157944 -0.183643 -0.248489        1.000000   \n",
              "\n",
              "                windspeed(ms)  \n",
              "season              -0.229046  \n",
              "yr                  -0.011817  \n",
              "mnth                -0.207502  \n",
              "holiday              0.006292  \n",
              "weekday              0.014282  \n",
              "workingday          -0.018796  \n",
              "weathersit           0.039511  \n",
              "temp                -0.157944  \n",
              "atemp               -0.183643  \n",
              "hum                 -0.248489  \n",
              "windspeed(mph)       1.000000  \n",
              "windspeed(ms)        1.000000  "
            ],
            "text/html": [
              "\n",
              "  <div id=\"df-c2b45106-3804-4b6e-8c1f-d9b476411dc6\" class=\"colab-df-container\">\n",
              "    <div>\n",
              "<style scoped>\n",
              "    .dataframe tbody tr th:only-of-type {\n",
              "        vertical-align: middle;\n",
              "    }\n",
              "\n",
              "    .dataframe tbody tr th {\n",
              "        vertical-align: top;\n",
              "    }\n",
              "\n",
              "    .dataframe thead th {\n",
              "        text-align: right;\n",
              "    }\n",
              "</style>\n",
              "<table border=\"1\" class=\"dataframe\">\n",
              "  <thead>\n",
              "    <tr style=\"text-align: right;\">\n",
              "      <th></th>\n",
              "      <th>season</th>\n",
              "      <th>yr</th>\n",
              "      <th>mnth</th>\n",
              "      <th>holiday</th>\n",
              "      <th>weekday</th>\n",
              "      <th>workingday</th>\n",
              "      <th>weathersit</th>\n",
              "      <th>temp</th>\n",
              "      <th>atemp</th>\n",
              "      <th>hum</th>\n",
              "      <th>windspeed(mph)</th>\n",
              "      <th>windspeed(ms)</th>\n",
              "    </tr>\n",
              "  </thead>\n",
              "  <tbody>\n",
              "    <tr>\n",
              "      <th>season</th>\n",
              "      <td>1.000000</td>\n",
              "      <td>-0.001844</td>\n",
              "      <td>0.831440</td>\n",
              "      <td>-0.010537</td>\n",
              "      <td>-0.003080</td>\n",
              "      <td>0.012485</td>\n",
              "      <td>0.019211</td>\n",
              "      <td>0.334315</td>\n",
              "      <td>0.342876</td>\n",
              "      <td>0.205445</td>\n",
              "      <td>-0.229046</td>\n",
              "      <td>-0.229046</td>\n",
              "    </tr>\n",
              "    <tr>\n",
              "      <th>yr</th>\n",
              "      <td>-0.001844</td>\n",
              "      <td>1.000000</td>\n",
              "      <td>-0.001792</td>\n",
              "      <td>0.007954</td>\n",
              "      <td>-0.005461</td>\n",
              "      <td>-0.002013</td>\n",
              "      <td>-0.048727</td>\n",
              "      <td>0.047604</td>\n",
              "      <td>0.046106</td>\n",
              "      <td>-0.110651</td>\n",
              "      <td>-0.011817</td>\n",
              "      <td>-0.011817</td>\n",
              "    </tr>\n",
              "    <tr>\n",
              "      <th>mnth</th>\n",
              "      <td>0.831440</td>\n",
              "      <td>-0.001792</td>\n",
              "      <td>1.000000</td>\n",
              "      <td>0.019191</td>\n",
              "      <td>0.009509</td>\n",
              "      <td>-0.005901</td>\n",
              "      <td>0.043528</td>\n",
              "      <td>0.220205</td>\n",
              "      <td>0.227459</td>\n",
              "      <td>0.222204</td>\n",
              "      <td>-0.207502</td>\n",
              "      <td>-0.207502</td>\n",
              "    </tr>\n",
              "    <tr>\n",
              "      <th>holiday</th>\n",
              "      <td>-0.010537</td>\n",
              "      <td>0.007954</td>\n",
              "      <td>0.019191</td>\n",
              "      <td>1.000000</td>\n",
              "      <td>-0.101960</td>\n",
              "      <td>-0.253023</td>\n",
              "      <td>-0.034627</td>\n",
              "      <td>-0.028556</td>\n",
              "      <td>-0.032507</td>\n",
              "      <td>-0.015937</td>\n",
              "      <td>0.006292</td>\n",
              "      <td>0.006292</td>\n",
              "    </tr>\n",
              "    <tr>\n",
              "      <th>weekday</th>\n",
              "      <td>-0.003080</td>\n",
              "      <td>-0.005461</td>\n",
              "      <td>0.009509</td>\n",
              "      <td>-0.101960</td>\n",
              "      <td>1.000000</td>\n",
              "      <td>0.035790</td>\n",
              "      <td>0.031087</td>\n",
              "      <td>-0.000170</td>\n",
              "      <td>-0.007537</td>\n",
              "      <td>-0.052232</td>\n",
              "      <td>0.014282</td>\n",
              "      <td>0.014282</td>\n",
              "    </tr>\n",
              "    <tr>\n",
              "      <th>workingday</th>\n",
              "      <td>0.012485</td>\n",
              "      <td>-0.002013</td>\n",
              "      <td>-0.005901</td>\n",
              "      <td>-0.253023</td>\n",
              "      <td>0.035790</td>\n",
              "      <td>1.000000</td>\n",
              "      <td>0.061200</td>\n",
              "      <td>0.052660</td>\n",
              "      <td>0.052182</td>\n",
              "      <td>0.024327</td>\n",
              "      <td>-0.018796</td>\n",
              "      <td>-0.018796</td>\n",
              "    </tr>\n",
              "    <tr>\n",
              "      <th>weathersit</th>\n",
              "      <td>0.019211</td>\n",
              "      <td>-0.048727</td>\n",
              "      <td>0.043528</td>\n",
              "      <td>-0.034627</td>\n",
              "      <td>0.031087</td>\n",
              "      <td>0.061200</td>\n",
              "      <td>1.000000</td>\n",
              "      <td>-0.120602</td>\n",
              "      <td>-0.121583</td>\n",
              "      <td>0.591045</td>\n",
              "      <td>0.039511</td>\n",
              "      <td>0.039511</td>\n",
              "    </tr>\n",
              "    <tr>\n",
              "      <th>temp</th>\n",
              "      <td>0.334315</td>\n",
              "      <td>0.047604</td>\n",
              "      <td>0.220205</td>\n",
              "      <td>-0.028556</td>\n",
              "      <td>-0.000170</td>\n",
              "      <td>0.052660</td>\n",
              "      <td>-0.120602</td>\n",
              "      <td>1.000000</td>\n",
              "      <td>0.991702</td>\n",
              "      <td>0.126963</td>\n",
              "      <td>-0.157944</td>\n",
              "      <td>-0.157944</td>\n",
              "    </tr>\n",
              "    <tr>\n",
              "      <th>atemp</th>\n",
              "      <td>0.342876</td>\n",
              "      <td>0.046106</td>\n",
              "      <td>0.227459</td>\n",
              "      <td>-0.032507</td>\n",
              "      <td>-0.007537</td>\n",
              "      <td>0.052182</td>\n",
              "      <td>-0.121583</td>\n",
              "      <td>0.991702</td>\n",
              "      <td>1.000000</td>\n",
              "      <td>0.139988</td>\n",
              "      <td>-0.183643</td>\n",
              "      <td>-0.183643</td>\n",
              "    </tr>\n",
              "    <tr>\n",
              "      <th>hum</th>\n",
              "      <td>0.205445</td>\n",
              "      <td>-0.110651</td>\n",
              "      <td>0.222204</td>\n",
              "      <td>-0.015937</td>\n",
              "      <td>-0.052232</td>\n",
              "      <td>0.024327</td>\n",
              "      <td>0.591045</td>\n",
              "      <td>0.126963</td>\n",
              "      <td>0.139988</td>\n",
              "      <td>1.000000</td>\n",
              "      <td>-0.248489</td>\n",
              "      <td>-0.248489</td>\n",
              "    </tr>\n",
              "    <tr>\n",
              "      <th>windspeed(mph)</th>\n",
              "      <td>-0.229046</td>\n",
              "      <td>-0.011817</td>\n",
              "      <td>-0.207502</td>\n",
              "      <td>0.006292</td>\n",
              "      <td>0.014282</td>\n",
              "      <td>-0.018796</td>\n",
              "      <td>0.039511</td>\n",
              "      <td>-0.157944</td>\n",
              "      <td>-0.183643</td>\n",
              "      <td>-0.248489</td>\n",
              "      <td>1.000000</td>\n",
              "      <td>1.000000</td>\n",
              "    </tr>\n",
              "    <tr>\n",
              "      <th>windspeed(ms)</th>\n",
              "      <td>-0.229046</td>\n",
              "      <td>-0.011817</td>\n",
              "      <td>-0.207502</td>\n",
              "      <td>0.006292</td>\n",
              "      <td>0.014282</td>\n",
              "      <td>-0.018796</td>\n",
              "      <td>0.039511</td>\n",
              "      <td>-0.157944</td>\n",
              "      <td>-0.183643</td>\n",
              "      <td>-0.248489</td>\n",
              "      <td>1.000000</td>\n",
              "      <td>1.000000</td>\n",
              "    </tr>\n",
              "  </tbody>\n",
              "</table>\n",
              "</div>\n",
              "    <div class=\"colab-df-buttons\">\n",
              "\n",
              "  <div class=\"colab-df-container\">\n",
              "    <button class=\"colab-df-convert\" onclick=\"convertToInteractive('df-c2b45106-3804-4b6e-8c1f-d9b476411dc6')\"\n",
              "            title=\"Convert this dataframe to an interactive table.\"\n",
              "            style=\"display:none;\">\n",
              "\n",
              "  <svg xmlns=\"http://www.w3.org/2000/svg\" height=\"24px\" viewBox=\"0 -960 960 960\">\n",
              "    <path d=\"M120-120v-720h720v720H120Zm60-500h600v-160H180v160Zm220 220h160v-160H400v160Zm0 220h160v-160H400v160ZM180-400h160v-160H180v160Zm440 0h160v-160H620v160ZM180-180h160v-160H180v160Zm440 0h160v-160H620v160Z\"/>\n",
              "  </svg>\n",
              "    </button>\n",
              "\n",
              "  <style>\n",
              "    .colab-df-container {\n",
              "      display:flex;\n",
              "      gap: 12px;\n",
              "    }\n",
              "\n",
              "    .colab-df-convert {\n",
              "      background-color: #E8F0FE;\n",
              "      border: none;\n",
              "      border-radius: 50%;\n",
              "      cursor: pointer;\n",
              "      display: none;\n",
              "      fill: #1967D2;\n",
              "      height: 32px;\n",
              "      padding: 0 0 0 0;\n",
              "      width: 32px;\n",
              "    }\n",
              "\n",
              "    .colab-df-convert:hover {\n",
              "      background-color: #E2EBFA;\n",
              "      box-shadow: 0px 1px 2px rgba(60, 64, 67, 0.3), 0px 1px 3px 1px rgba(60, 64, 67, 0.15);\n",
              "      fill: #174EA6;\n",
              "    }\n",
              "\n",
              "    .colab-df-buttons div {\n",
              "      margin-bottom: 4px;\n",
              "    }\n",
              "\n",
              "    [theme=dark] .colab-df-convert {\n",
              "      background-color: #3B4455;\n",
              "      fill: #D2E3FC;\n",
              "    }\n",
              "\n",
              "    [theme=dark] .colab-df-convert:hover {\n",
              "      background-color: #434B5C;\n",
              "      box-shadow: 0px 1px 3px 1px rgba(0, 0, 0, 0.15);\n",
              "      filter: drop-shadow(0px 1px 2px rgba(0, 0, 0, 0.3));\n",
              "      fill: #FFFFFF;\n",
              "    }\n",
              "  </style>\n",
              "\n",
              "    <script>\n",
              "      const buttonEl =\n",
              "        document.querySelector('#df-c2b45106-3804-4b6e-8c1f-d9b476411dc6 button.colab-df-convert');\n",
              "      buttonEl.style.display =\n",
              "        google.colab.kernel.accessAllowed ? 'block' : 'none';\n",
              "\n",
              "      async function convertToInteractive(key) {\n",
              "        const element = document.querySelector('#df-c2b45106-3804-4b6e-8c1f-d9b476411dc6');\n",
              "        const dataTable =\n",
              "          await google.colab.kernel.invokeFunction('convertToInteractive',\n",
              "                                                    [key], {});\n",
              "        if (!dataTable) return;\n",
              "\n",
              "        const docLinkHtml = 'Like what you see? Visit the ' +\n",
              "          '<a target=\"_blank\" href=https://colab.research.google.com/notebooks/data_table.ipynb>data table notebook</a>'\n",
              "          + ' to learn more about interactive tables.';\n",
              "        element.innerHTML = '';\n",
              "        dataTable['output_type'] = 'display_data';\n",
              "        await google.colab.output.renderOutput(dataTable, element);\n",
              "        const docLink = document.createElement('div');\n",
              "        docLink.innerHTML = docLinkHtml;\n",
              "        element.appendChild(docLink);\n",
              "      }\n",
              "    </script>\n",
              "  </div>\n",
              "\n",
              "\n",
              "<div id=\"df-3db582b0-4c43-4335-8895-20a92d8d3ece\">\n",
              "  <button class=\"colab-df-quickchart\" onclick=\"quickchart('df-3db582b0-4c43-4335-8895-20a92d8d3ece')\"\n",
              "            title=\"Suggest charts\"\n",
              "            style=\"display:none;\">\n",
              "\n",
              "<svg xmlns=\"http://www.w3.org/2000/svg\" height=\"24px\"viewBox=\"0 0 24 24\"\n",
              "     width=\"24px\">\n",
              "    <g>\n",
              "        <path d=\"M19 3H5c-1.1 0-2 .9-2 2v14c0 1.1.9 2 2 2h14c1.1 0 2-.9 2-2V5c0-1.1-.9-2-2-2zM9 17H7v-7h2v7zm4 0h-2V7h2v10zm4 0h-2v-4h2v4z\"/>\n",
              "    </g>\n",
              "</svg>\n",
              "  </button>\n",
              "\n",
              "<style>\n",
              "  .colab-df-quickchart {\n",
              "      --bg-color: #E8F0FE;\n",
              "      --fill-color: #1967D2;\n",
              "      --hover-bg-color: #E2EBFA;\n",
              "      --hover-fill-color: #174EA6;\n",
              "      --disabled-fill-color: #AAA;\n",
              "      --disabled-bg-color: #DDD;\n",
              "  }\n",
              "\n",
              "  [theme=dark] .colab-df-quickchart {\n",
              "      --bg-color: #3B4455;\n",
              "      --fill-color: #D2E3FC;\n",
              "      --hover-bg-color: #434B5C;\n",
              "      --hover-fill-color: #FFFFFF;\n",
              "      --disabled-bg-color: #3B4455;\n",
              "      --disabled-fill-color: #666;\n",
              "  }\n",
              "\n",
              "  .colab-df-quickchart {\n",
              "    background-color: var(--bg-color);\n",
              "    border: none;\n",
              "    border-radius: 50%;\n",
              "    cursor: pointer;\n",
              "    display: none;\n",
              "    fill: var(--fill-color);\n",
              "    height: 32px;\n",
              "    padding: 0;\n",
              "    width: 32px;\n",
              "  }\n",
              "\n",
              "  .colab-df-quickchart:hover {\n",
              "    background-color: var(--hover-bg-color);\n",
              "    box-shadow: 0 1px 2px rgba(60, 64, 67, 0.3), 0 1px 3px 1px rgba(60, 64, 67, 0.15);\n",
              "    fill: var(--button-hover-fill-color);\n",
              "  }\n",
              "\n",
              "  .colab-df-quickchart-complete:disabled,\n",
              "  .colab-df-quickchart-complete:disabled:hover {\n",
              "    background-color: var(--disabled-bg-color);\n",
              "    fill: var(--disabled-fill-color);\n",
              "    box-shadow: none;\n",
              "  }\n",
              "\n",
              "  .colab-df-spinner {\n",
              "    border: 2px solid var(--fill-color);\n",
              "    border-color: transparent;\n",
              "    border-bottom-color: var(--fill-color);\n",
              "    animation:\n",
              "      spin 1s steps(1) infinite;\n",
              "  }\n",
              "\n",
              "  @keyframes spin {\n",
              "    0% {\n",
              "      border-color: transparent;\n",
              "      border-bottom-color: var(--fill-color);\n",
              "      border-left-color: var(--fill-color);\n",
              "    }\n",
              "    20% {\n",
              "      border-color: transparent;\n",
              "      border-left-color: var(--fill-color);\n",
              "      border-top-color: var(--fill-color);\n",
              "    }\n",
              "    30% {\n",
              "      border-color: transparent;\n",
              "      border-left-color: var(--fill-color);\n",
              "      border-top-color: var(--fill-color);\n",
              "      border-right-color: var(--fill-color);\n",
              "    }\n",
              "    40% {\n",
              "      border-color: transparent;\n",
              "      border-right-color: var(--fill-color);\n",
              "      border-top-color: var(--fill-color);\n",
              "    }\n",
              "    60% {\n",
              "      border-color: transparent;\n",
              "      border-right-color: var(--fill-color);\n",
              "    }\n",
              "    80% {\n",
              "      border-color: transparent;\n",
              "      border-right-color: var(--fill-color);\n",
              "      border-bottom-color: var(--fill-color);\n",
              "    }\n",
              "    90% {\n",
              "      border-color: transparent;\n",
              "      border-bottom-color: var(--fill-color);\n",
              "    }\n",
              "  }\n",
              "</style>\n",
              "\n",
              "  <script>\n",
              "    async function quickchart(key) {\n",
              "      const quickchartButtonEl =\n",
              "        document.querySelector('#' + key + ' button');\n",
              "      quickchartButtonEl.disabled = true;  // To prevent multiple clicks.\n",
              "      quickchartButtonEl.classList.add('colab-df-spinner');\n",
              "      try {\n",
              "        const charts = await google.colab.kernel.invokeFunction(\n",
              "            'suggestCharts', [key], {});\n",
              "      } catch (error) {\n",
              "        console.error('Error during call to suggestCharts:', error);\n",
              "      }\n",
              "      quickchartButtonEl.classList.remove('colab-df-spinner');\n",
              "      quickchartButtonEl.classList.add('colab-df-quickchart-complete');\n",
              "    }\n",
              "    (() => {\n",
              "      let quickchartButtonEl =\n",
              "        document.querySelector('#df-3db582b0-4c43-4335-8895-20a92d8d3ece button');\n",
              "      quickchartButtonEl.style.display =\n",
              "        google.colab.kernel.accessAllowed ? 'block' : 'none';\n",
              "    })();\n",
              "  </script>\n",
              "</div>\n",
              "    </div>\n",
              "  </div>\n"
            ]
          },
          "metadata": {},
          "execution_count": 354
        }
      ]
    },
    {
      "cell_type": "code",
      "metadata": {
        "id": "v3RlugT3F0ck",
        "colab": {
          "base_uri": "https://localhost:8080/"
        },
        "outputId": "2958a37e-3dd2-4667-b3cf-333e5e754ae7"
      },
      "source": [
        "df[df_features].corrwith(df[df_target])\n",
        "\n"
      ],
      "execution_count": 355,
      "outputs": [
        {
          "output_type": "execute_result",
          "data": {
            "text/plain": [
              "season            0.406100\n",
              "yr                0.566710\n",
              "mnth              0.279977\n",
              "holiday          -0.068348\n",
              "weekday           0.067443\n",
              "workingday        0.061156\n",
              "weathersit       -0.297391\n",
              "temp              0.627494\n",
              "atemp             0.631066\n",
              "hum              -0.100659\n",
              "windspeed(mph)   -0.234545\n",
              "windspeed(ms)    -0.234545\n",
              "dtype: float64"
            ]
          },
          "metadata": {},
          "execution_count": 355
        }
      ]
    },
    {
      "cell_type": "markdown",
      "metadata": {
        "id": "ovV_DO35F0cl"
      },
      "source": [
        "У вибірці є ознаки, що корелюють із цільовою, а отже, завдання можна розв'язувати лінійними методами."
      ]
    },
    {
      "cell_type": "markdown",
      "metadata": {
        "id": "r0dre43ZF0cl"
      },
      "source": [
        "За графіками видно, що деякі ознаки схожі одна на одну. Тому давайте також порахуємо кореляції між речовими ознаками."
      ]
    },
    {
      "cell_type": "markdown",
      "source": [
        "## Завдання 3"
      ],
      "metadata": {
        "id": "AeX13e0BNB7F"
      }
    },
    {
      "cell_type": "markdown",
      "metadata": {
        "id": "Wga1WJDkF0cl"
      },
      "source": [
        "Порахуйте попарні кореляції між ознаками temp, atemp, hum, windspeed(mph), windspeed(ms) і cnt\n",
        "за допомогою методу corr:"
      ]
    },
    {
      "cell_type": "code",
      "metadata": {
        "id": "1rSOhITgF0cm",
        "colab": {
          "base_uri": "https://localhost:8080/"
        },
        "outputId": "2eeec368-7f51-4c92-814e-0d973cf66cc6"
      },
      "source": [
        "pair_corr =[\"temp\", \"atemp\", \"hum\",\"windspeed(mph)\", \"windspeed(ms)\"]\n",
        "for corr in pair_corr:\n",
        "  print()\n",
        "  print(df[[corr,\"cnt\"]].corr())"
      ],
      "execution_count": 356,
      "outputs": [
        {
          "output_type": "stream",
          "name": "stdout",
          "text": [
            "\n",
            "          temp       cnt\n",
            "temp  1.000000  0.627494\n",
            "cnt   0.627494  1.000000\n",
            "\n",
            "          atemp       cnt\n",
            "atemp  1.000000  0.631066\n",
            "cnt    0.631066  1.000000\n",
            "\n",
            "          hum       cnt\n",
            "hum  1.000000 -0.100659\n",
            "cnt -0.100659  1.000000\n",
            "\n",
            "                windspeed(mph)       cnt\n",
            "windspeed(mph)        1.000000 -0.234545\n",
            "cnt                  -0.234545  1.000000\n",
            "\n",
            "               windspeed(ms)       cnt\n",
            "windspeed(ms)       1.000000 -0.234545\n",
            "cnt                -0.234545  1.000000\n"
          ]
        }
      ]
    },
    {
      "cell_type": "markdown",
      "metadata": {
        "id": "Ooc4syvaF0cm"
      },
      "source": [
        "\n",
        "На діагоналях, як і годиться, стоять одиниці. Однак у матриці є ще дві пари стовпців, які сильно корелюють: temp і atemp (корелюють за своєю природою) і два windspeed (тому що це просто переклад одних одиниць в інші). Далі ми побачимо, що цей факт негативно позначається на навчанні лінійної моделі."
      ]
    },
    {
      "cell_type": "markdown",
      "metadata": {
        "id": "t-w2-4DbF0cm"
      },
      "source": [
        "Наостанок подивимося середні ознак (метод mean), щоб оцінити масштаб ознак і частки 1 у бінарних ознак."
      ]
    },
    {
      "cell_type": "markdown",
      "source": [
        "## Завдання 4"
      ],
      "metadata": {
        "id": "CJixc_7YM9cN"
      }
    },
    {
      "cell_type": "markdown",
      "metadata": {
        "id": "Ml3jlosnF0cm"
      },
      "source": [
        "Виведіть середні ознак"
      ]
    },
    {
      "cell_type": "code",
      "metadata": {
        "id": "zg7yBN9YF0cn",
        "colab": {
          "base_uri": "https://localhost:8080/"
        },
        "outputId": "9fdde982-42be-4ad2-c053-2668b7f1a68f"
      },
      "source": [
        "df.mean()"
      ],
      "execution_count": 357,
      "outputs": [
        {
          "output_type": "execute_result",
          "data": {
            "text/plain": [
              "season               2.496580\n",
              "yr                   0.500684\n",
              "mnth                 6.519836\n",
              "holiday              0.028728\n",
              "weekday              2.997264\n",
              "workingday           0.683995\n",
              "weathersit           1.395349\n",
              "temp                20.310776\n",
              "atemp               23.717699\n",
              "hum                 62.789406\n",
              "windspeed(mph)      12.762576\n",
              "windspeed(ms)        5.705220\n",
              "cnt               4504.348837\n",
              "dtype: float64"
            ]
          },
          "metadata": {},
          "execution_count": 357
        }
      ]
    },
    {
      "cell_type": "markdown",
      "metadata": {
        "id": "2i9pGW4TF0cn"
      },
      "source": [
        "Ознаки мають різний масштаб, отже для подальшої роботи нам краще унормувати матрицю об'єкти-ознаки.\n",
        "\n",
        "\n"
      ]
    },
    {
      "cell_type": "markdown",
      "metadata": {
        "id": "-RTwV3e_F0cn"
      },
      "source": [
        "### Проблема перша: колінеарні ознаки"
      ]
    },
    {
      "cell_type": "markdown",
      "metadata": {
        "id": "SSmpjxmrF0co"
      },
      "source": [
        "Отже, у наших даних одна ознака дублює іншу, і є ще дві дуже схожі. Звісно, ми могли б одразу видалити дублікати, але давайте подивимося, як би відбувалося навчання моделі, якби ми не помітили цю проблему.\n",
        "\n",
        "Для початку проведемо масштабування, або стандартизацію ознак: з кожної ознаки віднімемо її середнє і поділимо на стандартне відхилення. Це можна зробити за допомогою методу scale.\n",
        "\n",
        "Крім того, потрібно перемішати вибірку, це потрібно для крос-валідації."
      ]
    },
    {
      "cell_type": "code",
      "metadata": {
        "id": "jkGjoC9QF0co"
      },
      "source": [
        "from sklearn.preprocessing import scale\n",
        "from sklearn.utils import shuffle"
      ],
      "execution_count": 358,
      "outputs": []
    },
    {
      "cell_type": "code",
      "metadata": {
        "id": "9JnmTmeKF0co"
      },
      "source": [
        "SEED = 42\n",
        "df_shuffled = shuffle(df, random_state=SEED)\n",
        "X = scale(df_shuffled[df_shuffled.columns[:-1]])\n",
        "y = df_shuffled[\"cnt\"]"
      ],
      "execution_count": 359,
      "outputs": []
    },
    {
      "cell_type": "code",
      "source": [
        "print(f\"{X.max()=}\")\n",
        "print(f\"{X.min()=}\")\n",
        "print(f\"{X[0].max()=}\")\n",
        "print(f\"{X[0].min()=}\")"
      ],
      "metadata": {
        "colab": {
          "base_uri": "https://localhost:8080/"
        },
        "id": "UeI3qFDwMopF",
        "outputId": "8ecf9b08-c38c-4885-c7b5-ee6c27579635"
      },
      "execution_count": 360,
      "outputs": [
        {
          "output_type": "stream",
          "name": "stdout",
          "text": [
            "X.max()=5.814595756329395\n",
            "X.min()=-4.411486147280981\n",
            "X[0].max()=1.5886601861579452\n",
            "X[0].min()=-0.7260481545646825\n"
          ]
        }
      ]
    },
    {
      "cell_type": "markdown",
      "metadata": {
        "id": "wEvKSbrFF0co"
      },
      "source": [
        "Давайте навчимо лінійну регресію на наших даних і подивимося на ваги ознак."
      ]
    },
    {
      "cell_type": "code",
      "metadata": {
        "id": "Q9DAkdS1F0cp"
      },
      "source": [
        "from sklearn.linear_model import LinearRegression"
      ],
      "execution_count": 361,
      "outputs": []
    },
    {
      "cell_type": "markdown",
      "source": [
        "## Завдання 5"
      ],
      "metadata": {
        "id": "31hmQm_xMxLI"
      }
    },
    {
      "cell_type": "markdown",
      "metadata": {
        "id": "-8Cc-xhqF0cp"
      },
      "source": [
        "Створіть об'єкт лінійного регресора, навчіть його на всіх даних і виведіть ваги моделі (ваги зберігаються у змінній `coef_` класу регресора). Можна виводити пари (назва ознаки, вага), скориставшись функцією `zip`, вбудованою в мову python. Назви ознак зберігаються у змінній `df.columns`.\n"
      ]
    },
    {
      "cell_type": "code",
      "metadata": {
        "id": "EYFEkeI0F0cp",
        "colab": {
          "base_uri": "https://localhost:8080/",
          "height": 94
        },
        "outputId": "53160fbb-cef9-4107-876b-9403b2065942"
      },
      "source": [
        "linear_reg = LinearRegression()\n",
        "linear_reg.fit(X, y)"
      ],
      "execution_count": 362,
      "outputs": [
        {
          "output_type": "execute_result",
          "data": {
            "text/plain": [
              "LinearRegression()"
            ],
            "text/html": [
              "<style>#sk-container-id-4 {color: black;background-color: white;}#sk-container-id-4 pre{padding: 0;}#sk-container-id-4 div.sk-toggleable {background-color: white;}#sk-container-id-4 label.sk-toggleable__label {cursor: pointer;display: block;width: 100%;margin-bottom: 0;padding: 0.3em;box-sizing: border-box;text-align: center;}#sk-container-id-4 label.sk-toggleable__label-arrow:before {content: \"▸\";float: left;margin-right: 0.25em;color: #696969;}#sk-container-id-4 label.sk-toggleable__label-arrow:hover:before {color: black;}#sk-container-id-4 div.sk-estimator:hover label.sk-toggleable__label-arrow:before {color: black;}#sk-container-id-4 div.sk-toggleable__content {max-height: 0;max-width: 0;overflow: hidden;text-align: left;background-color: #f0f8ff;}#sk-container-id-4 div.sk-toggleable__content pre {margin: 0.2em;color: black;border-radius: 0.25em;background-color: #f0f8ff;}#sk-container-id-4 input.sk-toggleable__control:checked~div.sk-toggleable__content {max-height: 200px;max-width: 100%;overflow: auto;}#sk-container-id-4 input.sk-toggleable__control:checked~label.sk-toggleable__label-arrow:before {content: \"▾\";}#sk-container-id-4 div.sk-estimator input.sk-toggleable__control:checked~label.sk-toggleable__label {background-color: #d4ebff;}#sk-container-id-4 div.sk-label input.sk-toggleable__control:checked~label.sk-toggleable__label {background-color: #d4ebff;}#sk-container-id-4 input.sk-hidden--visually {border: 0;clip: rect(1px 1px 1px 1px);clip: rect(1px, 1px, 1px, 1px);height: 1px;margin: -1px;overflow: hidden;padding: 0;position: absolute;width: 1px;}#sk-container-id-4 div.sk-estimator {font-family: monospace;background-color: #f0f8ff;border: 1px dotted black;border-radius: 0.25em;box-sizing: border-box;margin-bottom: 0.5em;}#sk-container-id-4 div.sk-estimator:hover {background-color: #d4ebff;}#sk-container-id-4 div.sk-parallel-item::after {content: \"\";width: 100%;border-bottom: 1px solid gray;flex-grow: 1;}#sk-container-id-4 div.sk-label:hover label.sk-toggleable__label {background-color: #d4ebff;}#sk-container-id-4 div.sk-serial::before {content: \"\";position: absolute;border-left: 1px solid gray;box-sizing: border-box;top: 0;bottom: 0;left: 50%;z-index: 0;}#sk-container-id-4 div.sk-serial {display: flex;flex-direction: column;align-items: center;background-color: white;padding-right: 0.2em;padding-left: 0.2em;position: relative;}#sk-container-id-4 div.sk-item {position: relative;z-index: 1;}#sk-container-id-4 div.sk-parallel {display: flex;align-items: stretch;justify-content: center;background-color: white;position: relative;}#sk-container-id-4 div.sk-item::before, #sk-container-id-4 div.sk-parallel-item::before {content: \"\";position: absolute;border-left: 1px solid gray;box-sizing: border-box;top: 0;bottom: 0;left: 50%;z-index: -1;}#sk-container-id-4 div.sk-parallel-item {display: flex;flex-direction: column;z-index: 1;position: relative;background-color: white;}#sk-container-id-4 div.sk-parallel-item:first-child::after {align-self: flex-end;width: 50%;}#sk-container-id-4 div.sk-parallel-item:last-child::after {align-self: flex-start;width: 50%;}#sk-container-id-4 div.sk-parallel-item:only-child::after {width: 0;}#sk-container-id-4 div.sk-dashed-wrapped {border: 1px dashed gray;margin: 0 0.4em 0.5em 0.4em;box-sizing: border-box;padding-bottom: 0.4em;background-color: white;}#sk-container-id-4 div.sk-label label {font-family: monospace;font-weight: bold;display: inline-block;line-height: 1.2em;}#sk-container-id-4 div.sk-label-container {text-align: center;}#sk-container-id-4 div.sk-container {/* jupyter's `normalize.less` sets `[hidden] { display: none; }` but bootstrap.min.css set `[hidden] { display: none !important; }` so we also need the `!important` here to be able to override the default hidden behavior on the sphinx rendered scikit-learn.org. See: https://github.com/scikit-learn/scikit-learn/issues/21755 */display: inline-block !important;position: relative;}#sk-container-id-4 div.sk-text-repr-fallback {display: none;}</style><div id=\"sk-container-id-4\" class=\"sk-top-container\"><div class=\"sk-text-repr-fallback\"><pre>LinearRegression()</pre><b>In a Jupyter environment, please rerun this cell to show the HTML representation or trust the notebook. <br />On GitHub, the HTML representation is unable to render, please try loading this page with nbviewer.org.</b></div><div class=\"sk-container\" hidden><div class=\"sk-item\"><div class=\"sk-estimator sk-toggleable\"><input class=\"sk-toggleable__control sk-hidden--visually\" id=\"sk-estimator-id-4\" type=\"checkbox\" checked><label for=\"sk-estimator-id-4\" class=\"sk-toggleable__label sk-toggleable__label-arrow\">LinearRegression</label><div class=\"sk-toggleable__content\"><pre>LinearRegression()</pre></div></div></div></div></div>"
            ]
          },
          "metadata": {},
          "execution_count": 362
        }
      ]
    },
    {
      "cell_type": "code",
      "source": [
        "for f,w in zip(df.columns, linear_reg.coef_):\n",
        "  print(f\"{f}: {w}\")"
      ],
      "metadata": {
        "colab": {
          "base_uri": "https://localhost:8080/"
        },
        "id": "bKuug5IBUR-N",
        "outputId": "03998b82-4f2f-4273-edd3-b8d6f95ddf53"
      },
      "execution_count": 363,
      "outputs": [
        {
          "output_type": "stream",
          "name": "stdout",
          "text": [
            "season: 570.8637960129914\n",
            "yr: 1021.9653779400622\n",
            "mnth: -141.3017451148728\n",
            "holiday: -86.7593446245368\n",
            "weekday: 137.22506441350538\n",
            "workingday: 56.391881775973005\n",
            "weathersit: -330.2264620440312\n",
            "temp: 367.48373260182126\n",
            "atemp: 585.5493861188597\n",
            "hum: -145.61430569885857\n",
            "windspeed(mph): 12457138390688.885\n",
            "windspeed(ms): -12457138390887.346\n"
          ]
        }
      ]
    },
    {
      "cell_type": "code",
      "source": [
        "linear_reg.intercept_"
      ],
      "metadata": {
        "colab": {
          "base_uri": "https://localhost:8080/"
        },
        "id": "FMApRwefUiQB",
        "outputId": "7593c2c3-5917-47a4-90b4-1bfdba195a04"
      },
      "execution_count": 364,
      "outputs": [
        {
          "output_type": "execute_result",
          "data": {
            "text/plain": [
              "4504.354528214392"
            ]
          },
          "metadata": {},
          "execution_count": 364
        }
      ]
    },
    {
      "cell_type": "markdown",
      "metadata": {
        "id": "EXHziiV-F0cp"
      },
      "source": [
        "Ми бачимо, що ваги за лінійно-залежних ознак за модулем значно більші, ніж за інших ознак. Щоб зрозуміти, чому так сталося, згадаймо аналітичну формулу, за якою обчислюються ваги лінійної моделі в методі найменших квадратів:\n",
        "\n",
        "$$w = (X^TX)^{-1} X^T y$$\n",
        "\n",
        "Якщо в $X$ є колінеарні (лінійно-залежні) стовпці, матриця $X^TX$ стає виродженою, і формула перестає бути коректною. Що більш залежні ознаки, то менший визначник цієї матриці і тим гірша апроксимація $Xw \\approx y$. Таку ситуацію називають _проблемою мультиколінеарності_."
      ]
    },
    {
      "cell_type": "markdown",
      "metadata": {
        "id": "PIX0I5LQF0cq"
      },
      "source": [
        "З парою (temp, atemp) трохи менш корельованих змінних такого не сталося, проте на практиці завжди варто уважно слідкувати за коефіцієнтами за схожих ознак."
      ]
    },
    {
      "cell_type": "markdown",
      "metadata": {
        "id": "vkXwN1tKF0cq"
      },
      "source": [
        "Для того, щоб розв'язати проблему мультиколінеарності, потрібно скористатися регуляризатором. До оптимізованого функціоналу додають $L_1$ або $L_2$ норму ваг, помножену на коефіцієнт регуляризації $\\alpha$. У першому випадку метод називається Lasso, а в другому --- Ridge."
      ]
    },
    {
      "cell_type": "markdown",
      "source": [
        "## Завдання 6"
      ],
      "metadata": {
        "id": "oBx3I-bPMtuW"
      }
    },
    {
      "cell_type": "markdown",
      "metadata": {
        "id": "FT2oVbm1F0cq"
      },
      "source": [
        "Спробуймо навчити лінійні моделі з $L_1$ і $L_2$-регуляризацією, а далі порівняємо їхні ваги. Навчіть регрессори Ridge і Lasso з параметрами за замовчуванням і переконайтеся, що проблема з вагами вирішилася."
      ]
    },
    {
      "cell_type": "markdown",
      "metadata": {
        "id": "Rw0SDNemF0cq"
      },
      "source": [
        "Навчіть лінійну модель з $L_1$-регуляризацією (клас Lasso) і виведіть ваги"
      ]
    },
    {
      "cell_type": "code",
      "metadata": {
        "id": "A2U5BrZ9F0cr",
        "outputId": "c120d85b-4a00-43e1-b1ce-d91c0dda0a4a",
        "colab": {
          "base_uri": "https://localhost:8080/"
        }
      },
      "source": [
        "from sklearn import model_selection, datasets, linear_model, metrics\n",
        "#SEED = 12\n",
        "\n",
        "lasso_regressor = linear_model.Lasso(random_state=SEED)\n",
        "lasso_regressor.fit(X,y)\n",
        "print(f\"{lasso_regressor.coef_.shape=}\")\n",
        "print(f\"{lasso_regressor.score(X, y)=}\")\n",
        "print(\"\\nLasso weigths:\\n\")\n",
        "for f, w in zip(df.columns, lasso_regressor.coef_):\n",
        "  # wc = \", \".join(map(str,w.round(4)))\n",
        "  # wc = np.array2string(w, precision=4, separator=',',suppress_small=True)\n",
        "  print(f\"{f:15}: {w.round(4)}\")\n",
        "print(f\"\\n{lasso_regressor.intercept_=}\")"
      ],
      "execution_count": 365,
      "outputs": [
        {
          "output_type": "stream",
          "name": "stdout",
          "text": [
            "lasso_regressor.coef_.shape=(12,)\n",
            "lasso_regressor.score(X, y)=0.800239476118262\n",
            "\n",
            "Lasso weigths:\n",
            "\n",
            "season         : 560.2416\n",
            "yr             : 1019.4635\n",
            "mnth           : -128.7306\n",
            "holiday        : -86.1528\n",
            "weekday        : 137.3479\n",
            "workingday     : 55.2124\n",
            "weathersit     : -332.3699\n",
            "temp           : 376.3632\n",
            "atemp          : 576.5308\n",
            "hum            : -144.1292\n",
            "windspeed(mph) : -197.1397\n",
            "windspeed(ms)  : -0.0\n",
            "\n",
            "lasso_regressor.intercept_=4504.3488372093025\n"
          ]
        }
      ]
    },
    {
      "cell_type": "markdown",
      "metadata": {
        "id": "h7MpUkWyF0cr"
      },
      "source": [
        "Навчіть лінійну модель з $L_2$-регуляризацією (клас Ridge) і виведіть ваги\n",
        "\n",
        "---\n",
        "\n"
      ]
    },
    {
      "cell_type": "code",
      "metadata": {
        "id": "u4BnooUuF0cr",
        "outputId": "a0c7e134-3d5e-4e0c-b3bf-0a6d30063d84",
        "colab": {
          "base_uri": "https://localhost:8080/"
        }
      },
      "source": [
        "ridge_regressor = linear_model.Ridge(random_state=SEED)\n",
        "ridge_regressor.fit(X, y)\n",
        "\n",
        "print(f\"{ridge_regressor.coef_.shape=}\")\n",
        "print(f\"{ridge_regressor.score(X, y)=}\")\n",
        "print(\"\\nRidge weigths:\\n\")\n",
        "for f, w in zip(df.columns, ridge_regressor.coef_):\n",
        "  print(f\"{f:15}: {w.round(4)}\")\n",
        "print(f\"\\n{ridge_regressor.intercept_=}\")"
      ],
      "execution_count": 366,
      "outputs": [
        {
          "output_type": "stream",
          "name": "stdout",
          "text": [
            "ridge_regressor.coef_.shape=(12,)\n",
            "ridge_regressor.score(X, y)=0.8002417905136303\n",
            "\n",
            "Ridge weigths:\n",
            "\n",
            "season         : 563.0646\n",
            "yr             : 1018.9484\n",
            "mnth           : -131.8733\n",
            "holiday        : -86.7461\n",
            "weekday        : 138.0051\n",
            "workingday     : 55.9031\n",
            "weathersit     : -332.3498\n",
            "temp           : 386.4579\n",
            "atemp          : 566.347\n",
            "hum            : -145.0713\n",
            "windspeed(mph) : -99.2594\n",
            "windspeed(ms)  : -99.2594\n",
            "\n",
            "ridge_regressor.intercept_=4504.3488372093025\n"
          ]
        }
      ]
    },
    {
      "cell_type": "markdown",
      "source": [
        "## Завдання 7"
      ],
      "metadata": {
        "id": "Az56Chh8Mpus"
      }
    },
    {
      "cell_type": "markdown",
      "metadata": {
        "id": "OmpSEJ3wF0cr"
      },
      "source": [
        "На відміну від $L_2$-регуляризації, $L_1$ обнуляє ваги за деяких ознак Давайте поспостерігаємо, як змінюються ваги при збільшенні коефіцієнта регуляризації $\\alpha$."
      ]
    },
    {
      "cell_type": "markdown",
      "metadata": {
        "id": "Ho9_PTbHF0cs"
      },
      "source": [
        "Для кожного значення коефіцієнта з `alphas` навчіть регресор `Lasso` і запишіть ваги до списку `coefs_lasso`, а потім навчіть `Ridge` і запишіть ваги до списку `coefs_ridge`. Конвертуйте отримані списки в `np.array`."
      ]
    },
    {
      "cell_type": "code",
      "metadata": {
        "id": "HiizakIyF0cs",
        "colab": {
          "base_uri": "https://localhost:8080/"
        },
        "outputId": "eb0c9bb5-eac5-4383-8e07-d1d1b9ab352d"
      },
      "source": [
        "alphas = np.arange(1, 500, 50)\n",
        "\n",
        "coefs_lasso = []\n",
        "coefs_ridge = []\n",
        "\n",
        "for alpha in alphas:\n",
        "    lasso_regressor.set_params(alpha=alpha)\n",
        "    lasso_regressor.fit(X,y)\n",
        "    coefs_lasso.append(lasso_regressor.coef_)\n",
        "    print(f\"\\n{alpha=}, {coefs_lasso[-1][-1].round(6)=}\")\n",
        "\n",
        "    ridge_regressor.set_params(alpha=alpha)\n",
        "    ridge_regressor.fit(X,y)\n",
        "    coefs_ridge.append(ridge_regressor.coef_)\n",
        "    print(f\"{alpha=}, {coefs_ridge[-1][-1].round(6)=}\")\n",
        "\n",
        "# Конвертуйте отримані списки в np.array.\n",
        "coefs_lasso = np.array(coefs_lasso)\n",
        "coefs_ridge = np.array(coefs_ridge)\n",
        "\n",
        "print(f\"{coefs_lasso.shape=}\")\n",
        "print(f\"{coefs_ridge.shape=}\")\n"
      ],
      "execution_count": 367,
      "outputs": [
        {
          "output_type": "stream",
          "name": "stdout",
          "text": [
            "\n",
            "alpha=1, coefs_lasso[-1][-1].round(6)=-0.0\n",
            "alpha=1, coefs_ridge[-1][-1].round(6)=-99.259441\n",
            "\n",
            "alpha=51, coefs_lasso[-1][-1].round(6)=-0.0\n",
            "alpha=51, coefs_ridge[-1][-1].round(6)=-101.627315\n",
            "\n",
            "alpha=101, coefs_lasso[-1][-1].round(6)=-0.0\n",
            "alpha=101, coefs_ridge[-1][-1].round(6)=-102.101671\n",
            "\n",
            "alpha=151, coefs_lasso[-1][-1].round(6)=-0.0\n",
            "alpha=151, coefs_ridge[-1][-1].round(6)=-102.005376\n",
            "\n",
            "alpha=201, coefs_lasso[-1][-1].round(6)=-0.0\n",
            "alpha=201, coefs_ridge[-1][-1].round(6)=-101.586385\n",
            "\n",
            "alpha=251, coefs_lasso[-1][-1].round(6)=-0.0\n",
            "alpha=251, coefs_ridge[-1][-1].round(6)=-100.964711\n",
            "\n",
            "alpha=301, coefs_lasso[-1][-1].round(6)=-0.0\n",
            "alpha=301, coefs_ridge[-1][-1].round(6)=-100.20862\n",
            "\n",
            "alpha=351, coefs_lasso[-1][-1].round(6)=-0.0\n",
            "alpha=351, coefs_ridge[-1][-1].round(6)=-99.360661\n",
            "\n",
            "alpha=401, coefs_lasso[-1][-1].round(6)=-0.0\n",
            "alpha=401, coefs_ridge[-1][-1].round(6)=-98.449064\n",
            "\n",
            "alpha=451, coefs_lasso[-1][-1].round(6)=-0.0\n",
            "alpha=451, coefs_ridge[-1][-1].round(6)=-97.493434\n",
            "coefs_lasso.shape=(10, 12)\n",
            "coefs_ridge.shape=(10, 12)\n"
          ]
        }
      ]
    },
    {
      "cell_type": "markdown",
      "metadata": {
        "id": "vR3hawHAF0cs"
      },
      "source": [
        "Проаналізуйте динаміку ваг при збільшенні параметра регуляризації:\n"
      ]
    },
    {
      "cell_type": "code",
      "metadata": {
        "id": "rijH4f-VF0cs",
        "outputId": "d71c1da9-2365-4d00-f037-7f978e4a3365",
        "colab": {
          "base_uri": "https://localhost:8080/",
          "height": 72
        }
      },
      "source": [
        "plt.figure(figsize=(8, 5))\n",
        "\n",
        "for coef, feature in zip(coefs_lasso.T, df.columns):\n",
        "    plt.plot(alphas, coef, label=feature, color=np.random.rand(3))\n",
        "\n",
        "plt.legend(loc=\"upper right\", bbox_to_anchor=(1.4, 0.95))\n",
        "plt.xlabel(\"alpha\")\n",
        "plt.ylabel(\"feature weight\")\n",
        "plt.title(\"Lasso\")\n",
        "\n",
        "plt.figure(figsize=(8, 5))\n",
        "for coef, feature in zip(coefs_ridge.T, df.columns):\n",
        "    plt.plot(alphas, coef, label=feature, color=np.random.rand(3))\n",
        "\n",
        "plt.legend(loc=\"upper right\", bbox_to_anchor=(1.4, 0.95))\n",
        "plt.xlabel(\"alpha\")\n",
        "plt.ylabel(\"feature weight\")\n",
        "plt.title(\"Ridge\")\n",
        "\n",
        "plt.show()"
      ],
      "execution_count": 368,
      "outputs": [
        {
          "output_type": "display_data",
          "data": {
            "text/plain": [
              "<Figure size 800x500 with 1 Axes>"
            ],
            "image/png": "[encoded data removed]"
          },
          "metadata": {}
        },
        {
          "output_type": "display_data",
          "data": {
            "text/plain": [
              "<Figure size 800x500 with 1 Axes>"
            ],
            "image/png": "[encoded data removed]"
          },
          "metadata": {}
        }
      ]
    },
    {
      "cell_type": "code",
      "source": [
        "coefs_lasso.shape"
      ],
      "metadata": {
        "colab": {
          "base_uri": "https://localhost:8080/"
        },
        "id": "Dp4BTPhUUZsj",
        "outputId": "24efaf94-e34d-49ef-b373-7077932213f8"
      },
      "execution_count": 369,
      "outputs": [
        {
          "output_type": "execute_result",
          "data": {
            "text/plain": [
              "(10, 12)"
            ]
          },
          "metadata": {},
          "execution_count": 369
        }
      ]
    },
    {
      "cell_type": "markdown",
      "metadata": {
        "id": "wDCadrLbF0cs"
      },
      "source": [
        "Проаналізуйте графіки та дайте відповіді на такі запитання.\n",
        "\n",
        "1. Який регуляризатор (Ridge чи Lasso) агресивніше зменшує ваги за одного й того самого alpha?\n",
        "1. Що станеться з вагами Lasso, якщо alpha зробити дуже великим? Поясніть, чому так відбувається.\n",
        "1. Чи можна стверджувати, що `Lasso` виключає одну з ознак `windspeed` за будь-якого значення `alpha > 0`? А Ridge? Вважається, що регуляризатор виключає ознаку, якщо коефіцієнт при ній менше $10^{-3}$.\n",
        "1. Який із регуляризаторів підійде для відбору неінформативних ознак?"
      ]
    },
    {
      "cell_type": "markdown",
      "source": [
        "1. Lasso\n",
        "2. Велике значення alpha зануляє ваги\n",
        "3. Так для Lasso, але Ridge ваги все одно залишаються достатьно малими, у відмінності від повного вимкнення у Lasso.\n",
        "4. L1-регуляризацію (Lasso) за рахунок занулення."
      ],
      "metadata": {
        "id": "r91YB9EuOXsT"
      }
    },
    {
      "cell_type": "markdown",
      "source": [
        "## Завдання 8"
      ],
      "metadata": {
        "id": "158oKaykMULQ"
      }
    },
    {
      "cell_type": "markdown",
      "metadata": {
        "id": "IEmB7CPtF0ct"
      },
      "source": [
        "Далі будемо працювати з `Lasso`.\n",
        "\n",
        "Отже, ми бачимо, що при зміні alpha модель по-різному підбирає коефіцієнти ознак. Нам потрібно вибрати найкраще alpha.\n",
        "\n",
        "Для цього, по-перше, нам потрібна метрика якості. Будемо використовувати як метрику сам оптимізований функціонал методу найменших квадратів, тобто `Mean Square Error`.\n",
        "\n",
        "По-друге, потрібно зрозуміти, на яких даних цю метрику рахувати. Не можна обирати `alpha` за значенням MSE на навчальній вибірці, бо тоді ми не зможемо оцінити, як модель робитиме передбачення на нових для неї даних. Якщо ми виберемо одне розбиття вибірки на навчальну і тестову (це називається holdout), то налаштуємося на конкретні \"нові\" дані, і знову можемо перенавчитися. Тому будемо робити кілька розбивок вибірки, на кожному пробувати різні значення alpha, а потім усереднювати MSE. Найзручніше робити такі розбиття крос-валідацією, тобто розділити вибірку на $K$ частини, і щоразу брати одну з них як тестову, а з решти блоків складати навчальну вибірку."
      ]
    },
    {
      "cell_type": "markdown",
      "metadata": {
        "id": "wyOFogflF0ct"
      },
      "source": [
        "Робити крос-валідацію для регресії в sklearn зовсім просто: для цього є спеціальний регресор, __LassoCV__, який бере на вхід список з alpha і для кожного з них обчислює MSE на крос-валідації. Після навчання (якщо залишити параметр cv=3 за замовчуванням) регресор міститиме змінну __mse\\_path\\___, матрицю розміру len(alpha) x k, k = 3 (число блоків у крос-валідації), що містить значення MSE на тесті для відповідних запусків. Крім того, у змінній alpha\\_ зберігатиметься вибране значення параметра регуляризації, а в coef\\_, традиційно, навчені ваги, що відповідають цьому alpha_.\n",
        "\n",
        "Зверніть увагу, що регресор може змінювати порядок, у якому він проходить по alphas; для зіставлення з матрицею MSE краще використовувати змінну регресора alphas_."
      ]
    },
    {
      "cell_type": "markdown",
      "metadata": {
        "id": "_aUw0GmkF0ct"
      },
      "source": [
        "Навчіть регресор `LassoCV` на всіх параметрах регуляризації з alpha. Побудуйте графік _усередненого_ за рядками `MSE` залежно від `alpha` (використовуйте для цього функцію `create_plot`).\n",
        "\n",
        "Виведіть вибране `alpha`, а також пари \"ознака-коефіцієнт\" для навченого вектора коефіцієнтів."
      ]
    },
    {
      "cell_type": "code",
      "metadata": {
        "id": "L5MVKdVPF0cu"
      },
      "source": [
        "def create_plot(data, title, xlabel, ylabel, figsize=None, min=None):\n",
        "    size = figsize or (15, 5)\n",
        "    plt.figure(figsize=size)\n",
        "\n",
        "    # x = list(map(lambda e: e[0], data))\n",
        "    # y = list(map(lambda e: e[1], data))\n",
        "    x = data[0]\n",
        "    y = data[1]\n",
        "    plt.plot(x, y)\n",
        "\n",
        "    plt.title(title)\n",
        "    plt.xlabel(xlabel)\n",
        "    plt.ylabel(ylabel)\n",
        "\n",
        "    if min is not None:\n",
        "      plt.text(min[0], min[1], f\"min: {int(min[0])}x{int(min[1])}\", ha=\"center\")\n",
        "    else:\n",
        "      m_id = np.argmin(y)\n",
        "      m_y = np.min(y)\n",
        "      m_x = x[m_id]\n",
        "      plt.text(m_x, m_y, f\"min: {int(m_x)}x{int(m_y)}\", ha=\"center\")\n",
        "\n",
        "    plt.grid()\n",
        "    plt.show()"
      ],
      "execution_count": 370,
      "outputs": []
    },
    {
      "cell_type": "code",
      "metadata": {
        "id": "lYIKXzG5F0cu",
        "outputId": "7927bfa0-04ae-47b8-fa18-9071f2e07a34",
        "colab": {
          "base_uri": "https://localhost:8080/",
          "height": 141
        }
      },
      "source": [
        "from sklearn.linear_model import LassoCV\n",
        "\n",
        "alphas = np.arange(1, 100, 5)\n",
        "\n",
        "regressor = LassoCV(random_state=SEED, alphas=alphas, cv=3)\n",
        "regressor.fit(X, y)\n",
        "print(f\"{regressor.coef_.shape=}\")\n",
        "print(f\"{regressor.alphas.shape=}\")\n",
        "print(f\"{regressor.mse_path_.shape=}\")\n",
        "print(f\"{regressor.alphas_=}\")\n",
        "\n",
        "mse_values = np.mean(regressor.mse_path_, axis=1)\n",
        "# print(f\"{mse_values=}\")\n",
        "\n",
        "data = np.vstack((regressor.alphas_, mse_values))\n",
        "# print(f\"{data=}\")\n",
        "create_plot(data,\"графік усередненого за рядками MSE залежно від alpha\",\"Alpha\",\"MSE\")\n"
      ],
      "execution_count": 371,
      "outputs": [
        {
          "output_type": "stream",
          "name": "stdout",
          "text": [
            "regressor.coef_.shape=(12,)\n",
            "regressor.alphas.shape=(20,)\n",
            "regressor.mse_path_.shape=(20, 3)\n",
            "regressor.alphas_=array([96, 91, 86, 81, 76, 71, 66, 61, 56, 51, 46, 41, 36, 31, 26, 21, 16,\n",
            "       11,  6,  1])\n"
          ]
        },
        {
          "output_type": "display_data",
          "data": {
            "text/plain": [
              "<Figure size 1500x500 with 1 Axes>"
            ],
            "image/png": "[encoded data removed]"
          },
          "metadata": {}
        }
      ]
    },
    {
      "cell_type": "markdown",
      "metadata": {
        "id": "hRoEnDtfF0cu"
      },
      "source": [
        "Отже, ми вибрали деякий параметр регуляризації. Давайте подивимося, які б ми обирали alpha, якби ділили вибірку тільки один раз на навчальну і тестову, тобто розглянемо траєкторії MSE, що відповідають окремим блокам вибірки."
      ]
    },
    {
      "cell_type": "markdown",
      "source": [
        "## Завдання 9"
      ],
      "metadata": {
        "id": "HfDdtKCUMcP3"
      }
    },
    {
      "cell_type": "markdown",
      "metadata": {
        "id": "Jvl3XiPmF0cu"
      },
      "source": [
        "\n",
        "\n",
        "Виведіть значення `alpha`, що відповідають мінімумам `MSE` на кожному розбитті (тобто за стовпцями).\n",
        "На трьох окремих графіках візуалізуйте стовпці `mse_path_`.\n"
      ]
    },
    {
      "cell_type": "code",
      "metadata": {
        "id": "cpiFOLHHF0cu",
        "outputId": "1c75700c-bf20-40be-b06c-25e505ce0e02",
        "colab": {
          "base_uri": "https://localhost:8080/"
        }
      },
      "source": [
        "print(\"Alphas with minimum MSE:\")\n",
        "print(f\"{regressor.mse_path_.shape=}\")\n",
        "\n",
        "\n",
        "min_values = np.min(regressor.mse_path_, axis=0)\n",
        "print(f\"{min_values=}\")\n",
        "min_idx = np.argmin(regressor.mse_path_, axis=0)\n",
        "print(f\"{min_idx=}\")\n",
        "alphas = []\n",
        "for i, idx in enumerate(min_idx):\n",
        "  mse = min_values[i]\n",
        "  alpha = regressor.alphas_[idx]\n",
        "  alphas.append(alpha)\n",
        "  print(f\"{idx}: Alpha = {alpha}, MSE = {mse}\")\n",
        "\n",
        "\n",
        "\n",
        "# Alpha = 41, MSE = 843336.181499\n",
        "# Alpha = 6, MSE = 772598.495628\n",
        "# Alpha = 1, MSE = 745668.605961"
      ],
      "execution_count": 372,
      "outputs": [
        {
          "output_type": "stream",
          "name": "stdout",
          "text": [
            "Alphas with minimum MSE:\n",
            "regressor.mse_path_.shape=(20, 3)\n",
            "min_values=array([733725.76040522, 799433.16736917, 796979.89551936])\n",
            "min_idx=array([18, 19,  9])\n",
            "18: Alpha = 6, MSE = 733725.7604052249\n",
            "19: Alpha = 1, MSE = 799433.1673691692\n",
            "9: Alpha = 51, MSE = 796979.8955193626\n"
          ]
        }
      ]
    },
    {
      "cell_type": "code",
      "source": [
        "for col in range(regressor.mse_path_.shape[1]):\n",
        "  data = np.vstack((regressor.alphas_, regressor.mse_path_[:,col]))\n",
        "  create_plot(data,f\"графік MSE залежноcті від alpha для розбиття {col+1}\",\"Alpha\",\"MSE\",min=(alphas[col], min_values[col]))"
      ],
      "metadata": {
        "colab": {
          "base_uri": "https://localhost:8080/",
          "height": 89
        },
        "id": "bobwi8sHtPBV",
        "outputId": "634c6891-6eb2-42ad-ac31-a8e9b8d885ae"
      },
      "execution_count": 373,
      "outputs": [
        {
          "output_type": "display_data",
          "data": {
            "text/plain": [
              "<Figure size 1500x500 with 1 Axes>"
            ],
            "image/png": "[encoded data removed]"
          },
          "metadata": {}
        },
        {
          "output_type": "display_data",
          "data": {
            "text/plain": [
              "<Figure size 1500x500 with 1 Axes>"
            ],
            "image/png": "[encoded data removed]"
          },
          "metadata": {}
        },
        {
          "output_type": "display_data",
          "data": {
            "text/plain": [
              "<Figure size 1500x500 with 1 Axes>"
            ],
            "image/png": "[encoded data removed]"
          },
          "metadata": {}
        }
      ]
    },
    {
      "cell_type": "markdown",
      "metadata": {
        "id": "UEzEyHA1F0cv"
      },
      "source": [
        "На кожному розбитті оптимальне значення `alpha` своє, і йому відповідає велике MSE на інших розбиттях. Виходить, що ми налаштовуємося на конкретні навчальні та контрольні вибірки. Під час вибору `alpha` на крос-валідації ми обираємо щось \"середнє\", що даватиме прийнятне значення метрики на різних розбиттях вибірки."
      ]
    },
    {
      "cell_type": "markdown",
      "source": [
        "## Завдання 10"
      ],
      "metadata": {
        "id": "SjMpCw9tMht2"
      }
    },
    {
      "cell_type": "markdown",
      "metadata": {
        "id": "B6rE566oF0cv"
      },
      "source": [
        "Нарешті, як заведено в аналізі даних, давайте проінтерпретуємо результат. Дайте відповідь на такі запитання."
      ]
    },
    {
      "cell_type": "markdown",
      "metadata": {
        "id": "SSCcePDSF0cw"
      },
      "source": [
        "#### Запитання 1\n",
        "\n",
        "В останній навченій моделі виберіть 4 ознаки з найбільшими (позитивними) коефіцієнтами (і випишіть їх), подивіться на візуалізації залежностей `cnt` від цих ознак, які ми малювали в блоці \"Знайомство з даними\". Чи видно зростаючу лінійну залежність `cnt` від цих ознак за графіками? Чи логічно стверджувати (зі здорового глузду), що що більше значення цих ознак, то більше людей захочуть узяти велосипеди?"
      ]
    },
    {
      "cell_type": "markdown",
      "metadata": {
        "id": "2ikKprKqF0c0"
      },
      "source": [
        "__Відповідь:__"
      ]
    },
    {
      "cell_type": "code",
      "metadata": {
        "id": "W1MTuRXuF0c0",
        "colab": {
          "base_uri": "https://localhost:8080/"
        },
        "outputId": "d41e3d49-d7d9-4de9-9543-b0adcc601d53"
      },
      "source": [
        "print(f\"{regressor.coef_.shape=}\")\n",
        "for f,w in zip(df.columns, regressor.coef_):\n",
        "  print(f\"{f:15}: {w.round(4)}\")"
      ],
      "execution_count": 374,
      "outputs": [
        {
          "output_type": "stream",
          "name": "stdout",
          "text": [
            "regressor.coef_.shape=(12,)\n",
            "season         : 532.019\n",
            "yr             : 1015.0602\n",
            "mnth           : -100.0395\n",
            "holiday        : -83.294\n",
            "weekday        : 132.5045\n",
            "workingday     : 51.5571\n",
            "weathersit     : -330.5599\n",
            "temp           : 370.6799\n",
            "atemp          : 581.3969\n",
            "hum            : -140.0074\n",
            "windspeed(mph) : -191.7714\n",
            "windspeed(ms)  : -0.0\n"
          ]
        }
      ]
    },
    {
      "cell_type": "code",
      "source": [
        "data_coef = pd.DataFrame(regressor.coef_,index=df.columns[:-1], columns=[\"Weight\"])\n",
        "data_coef"
      ],
      "metadata": {
        "colab": {
          "base_uri": "https://localhost:8080/",
          "height": 446
        },
        "id": "lserEQhv7OyL",
        "outputId": "a2489cd5-625a-42d0-bf67-deeadf4c8f68"
      },
      "execution_count": 375,
      "outputs": [
        {
          "output_type": "execute_result",
          "data": {
            "text/plain": [
              "                      Weight\n",
              "season          5.320190e+02\n",
              "yr              1.015060e+03\n",
              "mnth           -1.000395e+02\n",
              "holiday        -8.329396e+01\n",
              "weekday         1.325045e+02\n",
              "workingday      5.155709e+01\n",
              "weathersit     -3.305599e+02\n",
              "temp            3.706799e+02\n",
              "atemp           5.813969e+02\n",
              "hum            -1.400074e+02\n",
              "windspeed(mph) -1.917714e+02\n",
              "windspeed(ms)  -2.685470e-08"
            ],
            "text/html": [
              "\n",
              "  <div id=\"df-b997a5d9-6797-481a-a985-b67918f3cac7\" class=\"colab-df-container\">\n",
              "    <div>\n",
              "<style scoped>\n",
              "    .dataframe tbody tr th:only-of-type {\n",
              "        vertical-align: middle;\n",
              "    }\n",
              "\n",
              "    .dataframe tbody tr th {\n",
              "        vertical-align: top;\n",
              "    }\n",
              "\n",
              "    .dataframe thead th {\n",
              "        text-align: right;\n",
              "    }\n",
              "</style>\n",
              "<table border=\"1\" class=\"dataframe\">\n",
              "  <thead>\n",
              "    <tr style=\"text-align: right;\">\n",
              "      <th></th>\n",
              "      <th>Weight</th>\n",
              "    </tr>\n",
              "  </thead>\n",
              "  <tbody>\n",
              "    <tr>\n",
              "      <th>season</th>\n",
              "      <td>5.320190e+02</td>\n",
              "    </tr>\n",
              "    <tr>\n",
              "      <th>yr</th>\n",
              "      <td>1.015060e+03</td>\n",
              "    </tr>\n",
              "    <tr>\n",
              "      <th>mnth</th>\n",
              "      <td>-1.000395e+02</td>\n",
              "    </tr>\n",
              "    <tr>\n",
              "      <th>holiday</th>\n",
              "      <td>-8.329396e+01</td>\n",
              "    </tr>\n",
              "    <tr>\n",
              "      <th>weekday</th>\n",
              "      <td>1.325045e+02</td>\n",
              "    </tr>\n",
              "    <tr>\n",
              "      <th>workingday</th>\n",
              "      <td>5.155709e+01</td>\n",
              "    </tr>\n",
              "    <tr>\n",
              "      <th>weathersit</th>\n",
              "      <td>-3.305599e+02</td>\n",
              "    </tr>\n",
              "    <tr>\n",
              "      <th>temp</th>\n",
              "      <td>3.706799e+02</td>\n",
              "    </tr>\n",
              "    <tr>\n",
              "      <th>atemp</th>\n",
              "      <td>5.813969e+02</td>\n",
              "    </tr>\n",
              "    <tr>\n",
              "      <th>hum</th>\n",
              "      <td>-1.400074e+02</td>\n",
              "    </tr>\n",
              "    <tr>\n",
              "      <th>windspeed(mph)</th>\n",
              "      <td>-1.917714e+02</td>\n",
              "    </tr>\n",
              "    <tr>\n",
              "      <th>windspeed(ms)</th>\n",
              "      <td>-2.685470e-08</td>\n",
              "    </tr>\n",
              "  </tbody>\n",
              "</table>\n",
              "</div>\n",
              "    <div class=\"colab-df-buttons\">\n",
              "\n",
              "  <div class=\"colab-df-container\">\n",
              "    <button class=\"colab-df-convert\" onclick=\"convertToInteractive('df-b997a5d9-6797-481a-a985-b67918f3cac7')\"\n",
              "            title=\"Convert this dataframe to an interactive table.\"\n",
              "            style=\"display:none;\">\n",
              "\n",
              "  <svg xmlns=\"http://www.w3.org/2000/svg\" height=\"24px\" viewBox=\"0 -960 960 960\">\n",
              "    <path d=\"M120-120v-720h720v720H120Zm60-500h600v-160H180v160Zm220 220h160v-160H400v160Zm0 220h160v-160H400v160ZM180-400h160v-160H180v160Zm440 0h160v-160H620v160ZM180-180h160v-160H180v160Zm440 0h160v-160H620v160Z\"/>\n",
              "  </svg>\n",
              "    </button>\n",
              "\n",
              "  <style>\n",
              "    .colab-df-container {\n",
              "      display:flex;\n",
              "      gap: 12px;\n",
              "    }\n",
              "\n",
              "    .colab-df-convert {\n",
              "      background-color: #E8F0FE;\n",
              "      border: none;\n",
              "      border-radius: 50%;\n",
              "      cursor: pointer;\n",
              "      display: none;\n",
              "      fill: #1967D2;\n",
              "      height: 32px;\n",
              "      padding: 0 0 0 0;\n",
              "      width: 32px;\n",
              "    }\n",
              "\n",
              "    .colab-df-convert:hover {\n",
              "      background-color: #E2EBFA;\n",
              "      box-shadow: 0px 1px 2px rgba(60, 64, 67, 0.3), 0px 1px 3px 1px rgba(60, 64, 67, 0.15);\n",
              "      fill: #174EA6;\n",
              "    }\n",
              "\n",
              "    .colab-df-buttons div {\n",
              "      margin-bottom: 4px;\n",
              "    }\n",
              "\n",
              "    [theme=dark] .colab-df-convert {\n",
              "      background-color: #3B4455;\n",
              "      fill: #D2E3FC;\n",
              "    }\n",
              "\n",
              "    [theme=dark] .colab-df-convert:hover {\n",
              "      background-color: #434B5C;\n",
              "      box-shadow: 0px 1px 3px 1px rgba(0, 0, 0, 0.15);\n",
              "      filter: drop-shadow(0px 1px 2px rgba(0, 0, 0, 0.3));\n",
              "      fill: #FFFFFF;\n",
              "    }\n",
              "  </style>\n",
              "\n",
              "    <script>\n",
              "      const buttonEl =\n",
              "        document.querySelector('#df-b997a5d9-6797-481a-a985-b67918f3cac7 button.colab-df-convert');\n",
              "      buttonEl.style.display =\n",
              "        google.colab.kernel.accessAllowed ? 'block' : 'none';\n",
              "\n",
              "      async function convertToInteractive(key) {\n",
              "        const element = document.querySelector('#df-b997a5d9-6797-481a-a985-b67918f3cac7');\n",
              "        const dataTable =\n",
              "          await google.colab.kernel.invokeFunction('convertToInteractive',\n",
              "                                                    [key], {});\n",
              "        if (!dataTable) return;\n",
              "\n",
              "        const docLinkHtml = 'Like what you see? Visit the ' +\n",
              "          '<a target=\"_blank\" href=https://colab.research.google.com/notebooks/data_table.ipynb>data table notebook</a>'\n",
              "          + ' to learn more about interactive tables.';\n",
              "        element.innerHTML = '';\n",
              "        dataTable['output_type'] = 'display_data';\n",
              "        await google.colab.output.renderOutput(dataTable, element);\n",
              "        const docLink = document.createElement('div');\n",
              "        docLink.innerHTML = docLinkHtml;\n",
              "        element.appendChild(docLink);\n",
              "      }\n",
              "    </script>\n",
              "  </div>\n",
              "\n",
              "\n",
              "<div id=\"df-d056c871-fc9b-4978-9316-0d9f4a380f8f\">\n",
              "  <button class=\"colab-df-quickchart\" onclick=\"quickchart('df-d056c871-fc9b-4978-9316-0d9f4a380f8f')\"\n",
              "            title=\"Suggest charts\"\n",
              "            style=\"display:none;\">\n",
              "\n",
              "<svg xmlns=\"http://www.w3.org/2000/svg\" height=\"24px\"viewBox=\"0 0 24 24\"\n",
              "     width=\"24px\">\n",
              "    <g>\n",
              "        <path d=\"M19 3H5c-1.1 0-2 .9-2 2v14c0 1.1.9 2 2 2h14c1.1 0 2-.9 2-2V5c0-1.1-.9-2-2-2zM9 17H7v-7h2v7zm4 0h-2V7h2v10zm4 0h-2v-4h2v4z\"/>\n",
              "    </g>\n",
              "</svg>\n",
              "  </button>\n",
              "\n",
              "<style>\n",
              "  .colab-df-quickchart {\n",
              "      --bg-color: #E8F0FE;\n",
              "      --fill-color: #1967D2;\n",
              "      --hover-bg-color: #E2EBFA;\n",
              "      --hover-fill-color: #174EA6;\n",
              "      --disabled-fill-color: #AAA;\n",
              "      --disabled-bg-color: #DDD;\n",
              "  }\n",
              "\n",
              "  [theme=dark] .colab-df-quickchart {\n",
              "      --bg-color: #3B4455;\n",
              "      --fill-color: #D2E3FC;\n",
              "      --hover-bg-color: #434B5C;\n",
              "      --hover-fill-color: #FFFFFF;\n",
              "      --disabled-bg-color: #3B4455;\n",
              "      --disabled-fill-color: #666;\n",
              "  }\n",
              "\n",
              "  .colab-df-quickchart {\n",
              "    background-color: var(--bg-color);\n",
              "    border: none;\n",
              "    border-radius: 50%;\n",
              "    cursor: pointer;\n",
              "    display: none;\n",
              "    fill: var(--fill-color);\n",
              "    height: 32px;\n",
              "    padding: 0;\n",
              "    width: 32px;\n",
              "  }\n",
              "\n",
              "  .colab-df-quickchart:hover {\n",
              "    background-color: var(--hover-bg-color);\n",
              "    box-shadow: 0 1px 2px rgba(60, 64, 67, 0.3), 0 1px 3px 1px rgba(60, 64, 67, 0.15);\n",
              "    fill: var(--button-hover-fill-color);\n",
              "  }\n",
              "\n",
              "  .colab-df-quickchart-complete:disabled,\n",
              "  .colab-df-quickchart-complete:disabled:hover {\n",
              "    background-color: var(--disabled-bg-color);\n",
              "    fill: var(--disabled-fill-color);\n",
              "    box-shadow: none;\n",
              "  }\n",
              "\n",
              "  .colab-df-spinner {\n",
              "    border: 2px solid var(--fill-color);\n",
              "    border-color: transparent;\n",
              "    border-bottom-color: var(--fill-color);\n",
              "    animation:\n",
              "      spin 1s steps(1) infinite;\n",
              "  }\n",
              "\n",
              "  @keyframes spin {\n",
              "    0% {\n",
              "      border-color: transparent;\n",
              "      border-bottom-color: var(--fill-color);\n",
              "      border-left-color: var(--fill-color);\n",
              "    }\n",
              "    20% {\n",
              "      border-color: transparent;\n",
              "      border-left-color: var(--fill-color);\n",
              "      border-top-color: var(--fill-color);\n",
              "    }\n",
              "    30% {\n",
              "      border-color: transparent;\n",
              "      border-left-color: var(--fill-color);\n",
              "      border-top-color: var(--fill-color);\n",
              "      border-right-color: var(--fill-color);\n",
              "    }\n",
              "    40% {\n",
              "      border-color: transparent;\n",
              "      border-right-color: var(--fill-color);\n",
              "      border-top-color: var(--fill-color);\n",
              "    }\n",
              "    60% {\n",
              "      border-color: transparent;\n",
              "      border-right-color: var(--fill-color);\n",
              "    }\n",
              "    80% {\n",
              "      border-color: transparent;\n",
              "      border-right-color: var(--fill-color);\n",
              "      border-bottom-color: var(--fill-color);\n",
              "    }\n",
              "    90% {\n",
              "      border-color: transparent;\n",
              "      border-bottom-color: var(--fill-color);\n",
              "    }\n",
              "  }\n",
              "</style>\n",
              "\n",
              "  <script>\n",
              "    async function quickchart(key) {\n",
              "      const quickchartButtonEl =\n",
              "        document.querySelector('#' + key + ' button');\n",
              "      quickchartButtonEl.disabled = true;  // To prevent multiple clicks.\n",
              "      quickchartButtonEl.classList.add('colab-df-spinner');\n",
              "      try {\n",
              "        const charts = await google.colab.kernel.invokeFunction(\n",
              "            'suggestCharts', [key], {});\n",
              "      } catch (error) {\n",
              "        console.error('Error during call to suggestCharts:', error);\n",
              "      }\n",
              "      quickchartButtonEl.classList.remove('colab-df-spinner');\n",
              "      quickchartButtonEl.classList.add('colab-df-quickchart-complete');\n",
              "    }\n",
              "    (() => {\n",
              "      let quickchartButtonEl =\n",
              "        document.querySelector('#df-d056c871-fc9b-4978-9316-0d9f4a380f8f button');\n",
              "      quickchartButtonEl.style.display =\n",
              "        google.colab.kernel.accessAllowed ? 'block' : 'none';\n",
              "    })();\n",
              "  </script>\n",
              "</div>\n",
              "    </div>\n",
              "  </div>\n"
            ]
          },
          "metadata": {},
          "execution_count": 375
        }
      ]
    },
    {
      "cell_type": "code",
      "source": [
        "data_coef[data_coef > 0].dropna().sort_values(by=['Weight'],ascending=False).head(4)"
      ],
      "metadata": {
        "colab": {
          "base_uri": "https://localhost:8080/",
          "height": 195
        },
        "id": "MBJ9KxRJ8Gn-",
        "outputId": "97e1050a-78d4-44ea-e61d-1a7c40b9bd10"
      },
      "execution_count": 376,
      "outputs": [
        {
          "output_type": "execute_result",
          "data": {
            "text/plain": [
              "             Weight\n",
              "yr      1015.060223\n",
              "atemp    581.396931\n",
              "season   532.018983\n",
              "temp     370.679855"
            ],
            "text/html": [
              "\n",
              "  <div id=\"df-c3a29818-e5a6-4097-950b-b90043b10083\" class=\"colab-df-container\">\n",
              "    <div>\n",
              "<style scoped>\n",
              "    .dataframe tbody tr th:only-of-type {\n",
              "        vertical-align: middle;\n",
              "    }\n",
              "\n",
              "    .dataframe tbody tr th {\n",
              "        vertical-align: top;\n",
              "    }\n",
              "\n",
              "    .dataframe thead th {\n",
              "        text-align: right;\n",
              "    }\n",
              "</style>\n",
              "<table border=\"1\" class=\"dataframe\">\n",
              "  <thead>\n",
              "    <tr style=\"text-align: right;\">\n",
              "      <th></th>\n",
              "      <th>Weight</th>\n",
              "    </tr>\n",
              "  </thead>\n",
              "  <tbody>\n",
              "    <tr>\n",
              "      <th>yr</th>\n",
              "      <td>1015.060223</td>\n",
              "    </tr>\n",
              "    <tr>\n",
              "      <th>atemp</th>\n",
              "      <td>581.396931</td>\n",
              "    </tr>\n",
              "    <tr>\n",
              "      <th>season</th>\n",
              "      <td>532.018983</td>\n",
              "    </tr>\n",
              "    <tr>\n",
              "      <th>temp</th>\n",
              "      <td>370.679855</td>\n",
              "    </tr>\n",
              "  </tbody>\n",
              "</table>\n",
              "</div>\n",
              "    <div class=\"colab-df-buttons\">\n",
              "\n",
              "  <div class=\"colab-df-container\">\n",
              "    <button class=\"colab-df-convert\" onclick=\"convertToInteractive('df-c3a29818-e5a6-4097-950b-b90043b10083')\"\n",
              "            title=\"Convert this dataframe to an interactive table.\"\n",
              "            style=\"display:none;\">\n",
              "\n",
              "  <svg xmlns=\"http://www.w3.org/2000/svg\" height=\"24px\" viewBox=\"0 -960 960 960\">\n",
              "    <path d=\"M120-120v-720h720v720H120Zm60-500h600v-160H180v160Zm220 220h160v-160H400v160Zm0 220h160v-160H400v160ZM180-400h160v-160H180v160Zm440 0h160v-160H620v160ZM180-180h160v-160H180v160Zm440 0h160v-160H620v160Z\"/>\n",
              "  </svg>\n",
              "    </button>\n",
              "\n",
              "  <style>\n",
              "    .colab-df-container {\n",
              "      display:flex;\n",
              "      gap: 12px;\n",
              "    }\n",
              "\n",
              "    .colab-df-convert {\n",
              "      background-color: #E8F0FE;\n",
              "      border: none;\n",
              "      border-radius: 50%;\n",
              "      cursor: pointer;\n",
              "      display: none;\n",
              "      fill: #1967D2;\n",
              "      height: 32px;\n",
              "      padding: 0 0 0 0;\n",
              "      width: 32px;\n",
              "    }\n",
              "\n",
              "    .colab-df-convert:hover {\n",
              "      background-color: #E2EBFA;\n",
              "      box-shadow: 0px 1px 2px rgba(60, 64, 67, 0.3), 0px 1px 3px 1px rgba(60, 64, 67, 0.15);\n",
              "      fill: #174EA6;\n",
              "    }\n",
              "\n",
              "    .colab-df-buttons div {\n",
              "      margin-bottom: 4px;\n",
              "    }\n",
              "\n",
              "    [theme=dark] .colab-df-convert {\n",
              "      background-color: #3B4455;\n",
              "      fill: #D2E3FC;\n",
              "    }\n",
              "\n",
              "    [theme=dark] .colab-df-convert:hover {\n",
              "      background-color: #434B5C;\n",
              "      box-shadow: 0px 1px 3px 1px rgba(0, 0, 0, 0.15);\n",
              "      filter: drop-shadow(0px 1px 2px rgba(0, 0, 0, 0.3));\n",
              "      fill: #FFFFFF;\n",
              "    }\n",
              "  </style>\n",
              "\n",
              "    <script>\n",
              "      const buttonEl =\n",
              "        document.querySelector('#df-c3a29818-e5a6-4097-950b-b90043b10083 button.colab-df-convert');\n",
              "      buttonEl.style.display =\n",
              "        google.colab.kernel.accessAllowed ? 'block' : 'none';\n",
              "\n",
              "      async function convertToInteractive(key) {\n",
              "        const element = document.querySelector('#df-c3a29818-e5a6-4097-950b-b90043b10083');\n",
              "        const dataTable =\n",
              "          await google.colab.kernel.invokeFunction('convertToInteractive',\n",
              "                                                    [key], {});\n",
              "        if (!dataTable) return;\n",
              "\n",
              "        const docLinkHtml = 'Like what you see? Visit the ' +\n",
              "          '<a target=\"_blank\" href=https://colab.research.google.com/notebooks/data_table.ipynb>data table notebook</a>'\n",
              "          + ' to learn more about interactive tables.';\n",
              "        element.innerHTML = '';\n",
              "        dataTable['output_type'] = 'display_data';\n",
              "        await google.colab.output.renderOutput(dataTable, element);\n",
              "        const docLink = document.createElement('div');\n",
              "        docLink.innerHTML = docLinkHtml;\n",
              "        element.appendChild(docLink);\n",
              "      }\n",
              "    </script>\n",
              "  </div>\n",
              "\n",
              "\n",
              "<div id=\"df-8a7bea9c-9158-4459-a169-8b2c309267a7\">\n",
              "  <button class=\"colab-df-quickchart\" onclick=\"quickchart('df-8a7bea9c-9158-4459-a169-8b2c309267a7')\"\n",
              "            title=\"Suggest charts\"\n",
              "            style=\"display:none;\">\n",
              "\n",
              "<svg xmlns=\"http://www.w3.org/2000/svg\" height=\"24px\"viewBox=\"0 0 24 24\"\n",
              "     width=\"24px\">\n",
              "    <g>\n",
              "        <path d=\"M19 3H5c-1.1 0-2 .9-2 2v14c0 1.1.9 2 2 2h14c1.1 0 2-.9 2-2V5c0-1.1-.9-2-2-2zM9 17H7v-7h2v7zm4 0h-2V7h2v10zm4 0h-2v-4h2v4z\"/>\n",
              "    </g>\n",
              "</svg>\n",
              "  </button>\n",
              "\n",
              "<style>\n",
              "  .colab-df-quickchart {\n",
              "      --bg-color: #E8F0FE;\n",
              "      --fill-color: #1967D2;\n",
              "      --hover-bg-color: #E2EBFA;\n",
              "      --hover-fill-color: #174EA6;\n",
              "      --disabled-fill-color: #AAA;\n",
              "      --disabled-bg-color: #DDD;\n",
              "  }\n",
              "\n",
              "  [theme=dark] .colab-df-quickchart {\n",
              "      --bg-color: #3B4455;\n",
              "      --fill-color: #D2E3FC;\n",
              "      --hover-bg-color: #434B5C;\n",
              "      --hover-fill-color: #FFFFFF;\n",
              "      --disabled-bg-color: #3B4455;\n",
              "      --disabled-fill-color: #666;\n",
              "  }\n",
              "\n",
              "  .colab-df-quickchart {\n",
              "    background-color: var(--bg-color);\n",
              "    border: none;\n",
              "    border-radius: 50%;\n",
              "    cursor: pointer;\n",
              "    display: none;\n",
              "    fill: var(--fill-color);\n",
              "    height: 32px;\n",
              "    padding: 0;\n",
              "    width: 32px;\n",
              "  }\n",
              "\n",
              "  .colab-df-quickchart:hover {\n",
              "    background-color: var(--hover-bg-color);\n",
              "    box-shadow: 0 1px 2px rgba(60, 64, 67, 0.3), 0 1px 3px 1px rgba(60, 64, 67, 0.15);\n",
              "    fill: var(--button-hover-fill-color);\n",
              "  }\n",
              "\n",
              "  .colab-df-quickchart-complete:disabled,\n",
              "  .colab-df-quickchart-complete:disabled:hover {\n",
              "    background-color: var(--disabled-bg-color);\n",
              "    fill: var(--disabled-fill-color);\n",
              "    box-shadow: none;\n",
              "  }\n",
              "\n",
              "  .colab-df-spinner {\n",
              "    border: 2px solid var(--fill-color);\n",
              "    border-color: transparent;\n",
              "    border-bottom-color: var(--fill-color);\n",
              "    animation:\n",
              "      spin 1s steps(1) infinite;\n",
              "  }\n",
              "\n",
              "  @keyframes spin {\n",
              "    0% {\n",
              "      border-color: transparent;\n",
              "      border-bottom-color: var(--fill-color);\n",
              "      border-left-color: var(--fill-color);\n",
              "    }\n",
              "    20% {\n",
              "      border-color: transparent;\n",
              "      border-left-color: var(--fill-color);\n",
              "      border-top-color: var(--fill-color);\n",
              "    }\n",
              "    30% {\n",
              "      border-color: transparent;\n",
              "      border-left-color: var(--fill-color);\n",
              "      border-top-color: var(--fill-color);\n",
              "      border-right-color: var(--fill-color);\n",
              "    }\n",
              "    40% {\n",
              "      border-color: transparent;\n",
              "      border-right-color: var(--fill-color);\n",
              "      border-top-color: var(--fill-color);\n",
              "    }\n",
              "    60% {\n",
              "      border-color: transparent;\n",
              "      border-right-color: var(--fill-color);\n",
              "    }\n",
              "    80% {\n",
              "      border-color: transparent;\n",
              "      border-right-color: var(--fill-color);\n",
              "      border-bottom-color: var(--fill-color);\n",
              "    }\n",
              "    90% {\n",
              "      border-color: transparent;\n",
              "      border-bottom-color: var(--fill-color);\n",
              "    }\n",
              "  }\n",
              "</style>\n",
              "\n",
              "  <script>\n",
              "    async function quickchart(key) {\n",
              "      const quickchartButtonEl =\n",
              "        document.querySelector('#' + key + ' button');\n",
              "      quickchartButtonEl.disabled = true;  // To prevent multiple clicks.\n",
              "      quickchartButtonEl.classList.add('colab-df-spinner');\n",
              "      try {\n",
              "        const charts = await google.colab.kernel.invokeFunction(\n",
              "            'suggestCharts', [key], {});\n",
              "      } catch (error) {\n",
              "        console.error('Error during call to suggestCharts:', error);\n",
              "      }\n",
              "      quickchartButtonEl.classList.remove('colab-df-spinner');\n",
              "      quickchartButtonEl.classList.add('colab-df-quickchart-complete');\n",
              "    }\n",
              "    (() => {\n",
              "      let quickchartButtonEl =\n",
              "        document.querySelector('#df-8a7bea9c-9158-4459-a169-8b2c309267a7 button');\n",
              "      quickchartButtonEl.style.display =\n",
              "        google.colab.kernel.accessAllowed ? 'block' : 'none';\n",
              "    })();\n",
              "  </script>\n",
              "</div>\n",
              "    </div>\n",
              "  </div>\n"
            ]
          },
          "metadata": {},
          "execution_count": 376
        }
      ]
    },
    {
      "cell_type": "markdown",
      "source": [
        "Відповідь:\n",
        "\n",
        "  - yr: \t   1015.060223\n",
        "  - atemp:   \t581.396931\n",
        "  - season: \t532.018983\n",
        "  - temp: \t  370.679855\n",
        "\n",
        "  Для yr замало даних щоб сказати залежність є точно, atemp, temp - залежність є точно, до певного порогу, season - теж виндно тенденцію.\n",
        "  \n",
        "  Так є,  що більше значення цих ознак, то більше людей захочуть узяти велосипеди.\n",
        "\n",
        "\n"
      ],
      "metadata": {
        "id": "cVYZdZKN9qip"
      }
    },
    {
      "cell_type": "markdown",
      "metadata": {
        "id": "DkQTu53pF0c0"
      },
      "source": [
        "#### Запитання 2\n",
        "\n",
        "Виберіть 3 ознаки з найбільшими за модулем від'ємними коефіцієнтами (і випишіть їх), подивіться на відповідні візуалізації. Чи видно спадну лінійну залежність? Чи логічно стверджувати, що чим більшою є величина цих ознак, тим менше людей захочуть узяти велосипеди?"
      ]
    },
    {
      "cell_type": "markdown",
      "metadata": {
        "id": "DUN8I7shF0c0"
      },
      "source": [
        "__Відповідь:__"
      ]
    },
    {
      "cell_type": "code",
      "metadata": {
        "id": "jv1CGs-8F0c1",
        "colab": {
          "base_uri": "https://localhost:8080/",
          "height": 163
        },
        "outputId": "1317df9c-75c4-4bea-8dc8-3af39edd5ae5"
      },
      "source": [
        "data_coef[data_coef < 0].dropna().abs().sort_values(by=['Weight'],ascending=False).head(3)"
      ],
      "execution_count": 377,
      "outputs": [
        {
          "output_type": "execute_result",
          "data": {
            "text/plain": [
              "                    Weight\n",
              "weathersit      330.559857\n",
              "windspeed(mph)  191.771408\n",
              "hum             140.007406"
            ],
            "text/html": [
              "\n",
              "  <div id=\"df-534bb43f-2d42-432b-8305-8e6ae5178c0a\" class=\"colab-df-container\">\n",
              "    <div>\n",
              "<style scoped>\n",
              "    .dataframe tbody tr th:only-of-type {\n",
              "        vertical-align: middle;\n",
              "    }\n",
              "\n",
              "    .dataframe tbody tr th {\n",
              "        vertical-align: top;\n",
              "    }\n",
              "\n",
              "    .dataframe thead th {\n",
              "        text-align: right;\n",
              "    }\n",
              "</style>\n",
              "<table border=\"1\" class=\"dataframe\">\n",
              "  <thead>\n",
              "    <tr style=\"text-align: right;\">\n",
              "      <th></th>\n",
              "      <th>Weight</th>\n",
              "    </tr>\n",
              "  </thead>\n",
              "  <tbody>\n",
              "    <tr>\n",
              "      <th>weathersit</th>\n",
              "      <td>330.559857</td>\n",
              "    </tr>\n",
              "    <tr>\n",
              "      <th>windspeed(mph)</th>\n",
              "      <td>191.771408</td>\n",
              "    </tr>\n",
              "    <tr>\n",
              "      <th>hum</th>\n",
              "      <td>140.007406</td>\n",
              "    </tr>\n",
              "  </tbody>\n",
              "</table>\n",
              "</div>\n",
              "    <div class=\"colab-df-buttons\">\n",
              "\n",
              "  <div class=\"colab-df-container\">\n",
              "    <button class=\"colab-df-convert\" onclick=\"convertToInteractive('df-534bb43f-2d42-432b-8305-8e6ae5178c0a')\"\n",
              "            title=\"Convert this dataframe to an interactive table.\"\n",
              "            style=\"display:none;\">\n",
              "\n",
              "  <svg xmlns=\"http://www.w3.org/2000/svg\" height=\"24px\" viewBox=\"0 -960 960 960\">\n",
              "    <path d=\"M120-120v-720h720v720H120Zm60-500h600v-160H180v160Zm220 220h160v-160H400v160Zm0 220h160v-160H400v160ZM180-400h160v-160H180v160Zm440 0h160v-160H620v160ZM180-180h160v-160H180v160Zm440 0h160v-160H620v160Z\"/>\n",
              "  </svg>\n",
              "    </button>\n",
              "\n",
              "  <style>\n",
              "    .colab-df-container {\n",
              "      display:flex;\n",
              "      gap: 12px;\n",
              "    }\n",
              "\n",
              "    .colab-df-convert {\n",
              "      background-color: #E8F0FE;\n",
              "      border: none;\n",
              "      border-radius: 50%;\n",
              "      cursor: pointer;\n",
              "      display: none;\n",
              "      fill: #1967D2;\n",
              "      height: 32px;\n",
              "      padding: 0 0 0 0;\n",
              "      width: 32px;\n",
              "    }\n",
              "\n",
              "    .colab-df-convert:hover {\n",
              "      background-color: #E2EBFA;\n",
              "      box-shadow: 0px 1px 2px rgba(60, 64, 67, 0.3), 0px 1px 3px 1px rgba(60, 64, 67, 0.15);\n",
              "      fill: #174EA6;\n",
              "    }\n",
              "\n",
              "    .colab-df-buttons div {\n",
              "      margin-bottom: 4px;\n",
              "    }\n",
              "\n",
              "    [theme=dark] .colab-df-convert {\n",
              "      background-color: #3B4455;\n",
              "      fill: #D2E3FC;\n",
              "    }\n",
              "\n",
              "    [theme=dark] .colab-df-convert:hover {\n",
              "      background-color: #434B5C;\n",
              "      box-shadow: 0px 1px 3px 1px rgba(0, 0, 0, 0.15);\n",
              "      filter: drop-shadow(0px 1px 2px rgba(0, 0, 0, 0.3));\n",
              "      fill: #FFFFFF;\n",
              "    }\n",
              "  </style>\n",
              "\n",
              "    <script>\n",
              "      const buttonEl =\n",
              "        document.querySelector('#df-534bb43f-2d42-432b-8305-8e6ae5178c0a button.colab-df-convert');\n",
              "      buttonEl.style.display =\n",
              "        google.colab.kernel.accessAllowed ? 'block' : 'none';\n",
              "\n",
              "      async function convertToInteractive(key) {\n",
              "        const element = document.querySelector('#df-534bb43f-2d42-432b-8305-8e6ae5178c0a');\n",
              "        const dataTable =\n",
              "          await google.colab.kernel.invokeFunction('convertToInteractive',\n",
              "                                                    [key], {});\n",
              "        if (!dataTable) return;\n",
              "\n",
              "        const docLinkHtml = 'Like what you see? Visit the ' +\n",
              "          '<a target=\"_blank\" href=https://colab.research.google.com/notebooks/data_table.ipynb>data table notebook</a>'\n",
              "          + ' to learn more about interactive tables.';\n",
              "        element.innerHTML = '';\n",
              "        dataTable['output_type'] = 'display_data';\n",
              "        await google.colab.output.renderOutput(dataTable, element);\n",
              "        const docLink = document.createElement('div');\n",
              "        docLink.innerHTML = docLinkHtml;\n",
              "        element.appendChild(docLink);\n",
              "      }\n",
              "    </script>\n",
              "  </div>\n",
              "\n",
              "\n",
              "<div id=\"df-c44f3ea9-9ce8-4a88-9a39-c80293787374\">\n",
              "  <button class=\"colab-df-quickchart\" onclick=\"quickchart('df-c44f3ea9-9ce8-4a88-9a39-c80293787374')\"\n",
              "            title=\"Suggest charts\"\n",
              "            style=\"display:none;\">\n",
              "\n",
              "<svg xmlns=\"http://www.w3.org/2000/svg\" height=\"24px\"viewBox=\"0 0 24 24\"\n",
              "     width=\"24px\">\n",
              "    <g>\n",
              "        <path d=\"M19 3H5c-1.1 0-2 .9-2 2v14c0 1.1.9 2 2 2h14c1.1 0 2-.9 2-2V5c0-1.1-.9-2-2-2zM9 17H7v-7h2v7zm4 0h-2V7h2v10zm4 0h-2v-4h2v4z\"/>\n",
              "    </g>\n",
              "</svg>\n",
              "  </button>\n",
              "\n",
              "<style>\n",
              "  .colab-df-quickchart {\n",
              "      --bg-color: #E8F0FE;\n",
              "      --fill-color: #1967D2;\n",
              "      --hover-bg-color: #E2EBFA;\n",
              "      --hover-fill-color: #174EA6;\n",
              "      --disabled-fill-color: #AAA;\n",
              "      --disabled-bg-color: #DDD;\n",
              "  }\n",
              "\n",
              "  [theme=dark] .colab-df-quickchart {\n",
              "      --bg-color: #3B4455;\n",
              "      --fill-color: #D2E3FC;\n",
              "      --hover-bg-color: #434B5C;\n",
              "      --hover-fill-color: #FFFFFF;\n",
              "      --disabled-bg-color: #3B4455;\n",
              "      --disabled-fill-color: #666;\n",
              "  }\n",
              "\n",
              "  .colab-df-quickchart {\n",
              "    background-color: var(--bg-color);\n",
              "    border: none;\n",
              "    border-radius: 50%;\n",
              "    cursor: pointer;\n",
              "    display: none;\n",
              "    fill: var(--fill-color);\n",
              "    height: 32px;\n",
              "    padding: 0;\n",
              "    width: 32px;\n",
              "  }\n",
              "\n",
              "  .colab-df-quickchart:hover {\n",
              "    background-color: var(--hover-bg-color);\n",
              "    box-shadow: 0 1px 2px rgba(60, 64, 67, 0.3), 0 1px 3px 1px rgba(60, 64, 67, 0.15);\n",
              "    fill: var(--button-hover-fill-color);\n",
              "  }\n",
              "\n",
              "  .colab-df-quickchart-complete:disabled,\n",
              "  .colab-df-quickchart-complete:disabled:hover {\n",
              "    background-color: var(--disabled-bg-color);\n",
              "    fill: var(--disabled-fill-color);\n",
              "    box-shadow: none;\n",
              "  }\n",
              "\n",
              "  .colab-df-spinner {\n",
              "    border: 2px solid var(--fill-color);\n",
              "    border-color: transparent;\n",
              "    border-bottom-color: var(--fill-color);\n",
              "    animation:\n",
              "      spin 1s steps(1) infinite;\n",
              "  }\n",
              "\n",
              "  @keyframes spin {\n",
              "    0% {\n",
              "      border-color: transparent;\n",
              "      border-bottom-color: var(--fill-color);\n",
              "      border-left-color: var(--fill-color);\n",
              "    }\n",
              "    20% {\n",
              "      border-color: transparent;\n",
              "      border-left-color: var(--fill-color);\n",
              "      border-top-color: var(--fill-color);\n",
              "    }\n",
              "    30% {\n",
              "      border-color: transparent;\n",
              "      border-left-color: var(--fill-color);\n",
              "      border-top-color: var(--fill-color);\n",
              "      border-right-color: var(--fill-color);\n",
              "    }\n",
              "    40% {\n",
              "      border-color: transparent;\n",
              "      border-right-color: var(--fill-color);\n",
              "      border-top-color: var(--fill-color);\n",
              "    }\n",
              "    60% {\n",
              "      border-color: transparent;\n",
              "      border-right-color: var(--fill-color);\n",
              "    }\n",
              "    80% {\n",
              "      border-color: transparent;\n",
              "      border-right-color: var(--fill-color);\n",
              "      border-bottom-color: var(--fill-color);\n",
              "    }\n",
              "    90% {\n",
              "      border-color: transparent;\n",
              "      border-bottom-color: var(--fill-color);\n",
              "    }\n",
              "  }\n",
              "</style>\n",
              "\n",
              "  <script>\n",
              "    async function quickchart(key) {\n",
              "      const quickchartButtonEl =\n",
              "        document.querySelector('#' + key + ' button');\n",
              "      quickchartButtonEl.disabled = true;  // To prevent multiple clicks.\n",
              "      quickchartButtonEl.classList.add('colab-df-spinner');\n",
              "      try {\n",
              "        const charts = await google.colab.kernel.invokeFunction(\n",
              "            'suggestCharts', [key], {});\n",
              "      } catch (error) {\n",
              "        console.error('Error during call to suggestCharts:', error);\n",
              "      }\n",
              "      quickchartButtonEl.classList.remove('colab-df-spinner');\n",
              "      quickchartButtonEl.classList.add('colab-df-quickchart-complete');\n",
              "    }\n",
              "    (() => {\n",
              "      let quickchartButtonEl =\n",
              "        document.querySelector('#df-c44f3ea9-9ce8-4a88-9a39-c80293787374 button');\n",
              "      quickchartButtonEl.style.display =\n",
              "        google.colab.kernel.accessAllowed ? 'block' : 'none';\n",
              "    })();\n",
              "  </script>\n",
              "</div>\n",
              "    </div>\n",
              "  </div>\n"
            ]
          },
          "metadata": {},
          "execution_count": 377
        }
      ]
    },
    {
      "cell_type": "markdown",
      "source": [
        "```\n",
        "weathersit: \t  330.559857\n",
        "windspeed(mph):  191.771408\n",
        "hum:          \t140.007406\n",
        "```\n",
        "\n",
        "Так, чим більшою є величина цих ознак, тим менше людей захочуть узяти велосипеди.\n"
      ],
      "metadata": {
        "id": "5GAkECUP_4Z9"
      }
    },
    {
      "cell_type": "markdown",
      "metadata": {
        "id": "vrbD3fNSF0c1"
      },
      "source": [
        "#### Запитання 3\n",
        "\n",
        "Випишіть ознаки з коефіцієнтами, близькими до нуля (< $1e^{-3}$). Як ви думаєте, чому модель виключила їх із моделі (знову подивіться на графіки)? Чи правильно, що вони ніяк не впливають на попит на велосипеди?"
      ]
    },
    {
      "cell_type": "markdown",
      "metadata": {
        "id": "tFhvV-jcF0c1"
      },
      "source": [
        "__Відповідь:__"
      ]
    },
    {
      "cell_type": "code",
      "metadata": {
        "id": "TwnJNeaIF0c1",
        "colab": {
          "base_uri": "https://localhost:8080/",
          "height": 101
        },
        "outputId": "58325f93-648d-40bf-debe-0e184221c086"
      },
      "source": [
        "data_coef[data_coef.abs() < 1e-03].dropna()"
      ],
      "execution_count": 378,
      "outputs": [
        {
          "output_type": "execute_result",
          "data": {
            "text/plain": [
              "                     Weight\n",
              "windspeed(ms) -2.685470e-08"
            ],
            "text/html": [
              "\n",
              "  <div id=\"df-9a894857-7c6d-40f9-9aa4-ccac7155fef3\" class=\"colab-df-container\">\n",
              "    <div>\n",
              "<style scoped>\n",
              "    .dataframe tbody tr th:only-of-type {\n",
              "        vertical-align: middle;\n",
              "    }\n",
              "\n",
              "    .dataframe tbody tr th {\n",
              "        vertical-align: top;\n",
              "    }\n",
              "\n",
              "    .dataframe thead th {\n",
              "        text-align: right;\n",
              "    }\n",
              "</style>\n",
              "<table border=\"1\" class=\"dataframe\">\n",
              "  <thead>\n",
              "    <tr style=\"text-align: right;\">\n",
              "      <th></th>\n",
              "      <th>Weight</th>\n",
              "    </tr>\n",
              "  </thead>\n",
              "  <tbody>\n",
              "    <tr>\n",
              "      <th>windspeed(ms)</th>\n",
              "      <td>-2.685470e-08</td>\n",
              "    </tr>\n",
              "  </tbody>\n",
              "</table>\n",
              "</div>\n",
              "    <div class=\"colab-df-buttons\">\n",
              "\n",
              "  <div class=\"colab-df-container\">\n",
              "    <button class=\"colab-df-convert\" onclick=\"convertToInteractive('df-9a894857-7c6d-40f9-9aa4-ccac7155fef3')\"\n",
              "            title=\"Convert this dataframe to an interactive table.\"\n",
              "            style=\"display:none;\">\n",
              "\n",
              "  <svg xmlns=\"http://www.w3.org/2000/svg\" height=\"24px\" viewBox=\"0 -960 960 960\">\n",
              "    <path d=\"M120-120v-720h720v720H120Zm60-500h600v-160H180v160Zm220 220h160v-160H400v160Zm0 220h160v-160H400v160ZM180-400h160v-160H180v160Zm440 0h160v-160H620v160ZM180-180h160v-160H180v160Zm440 0h160v-160H620v160Z\"/>\n",
              "  </svg>\n",
              "    </button>\n",
              "\n",
              "  <style>\n",
              "    .colab-df-container {\n",
              "      display:flex;\n",
              "      gap: 12px;\n",
              "    }\n",
              "\n",
              "    .colab-df-convert {\n",
              "      background-color: #E8F0FE;\n",
              "      border: none;\n",
              "      border-radius: 50%;\n",
              "      cursor: pointer;\n",
              "      display: none;\n",
              "      fill: #1967D2;\n",
              "      height: 32px;\n",
              "      padding: 0 0 0 0;\n",
              "      width: 32px;\n",
              "    }\n",
              "\n",
              "    .colab-df-convert:hover {\n",
              "      background-color: #E2EBFA;\n",
              "      box-shadow: 0px 1px 2px rgba(60, 64, 67, 0.3), 0px 1px 3px 1px rgba(60, 64, 67, 0.15);\n",
              "      fill: #174EA6;\n",
              "    }\n",
              "\n",
              "    .colab-df-buttons div {\n",
              "      margin-bottom: 4px;\n",
              "    }\n",
              "\n",
              "    [theme=dark] .colab-df-convert {\n",
              "      background-color: #3B4455;\n",
              "      fill: #D2E3FC;\n",
              "    }\n",
              "\n",
              "    [theme=dark] .colab-df-convert:hover {\n",
              "      background-color: #434B5C;\n",
              "      box-shadow: 0px 1px 3px 1px rgba(0, 0, 0, 0.15);\n",
              "      filter: drop-shadow(0px 1px 2px rgba(0, 0, 0, 0.3));\n",
              "      fill: #FFFFFF;\n",
              "    }\n",
              "  </style>\n",
              "\n",
              "    <script>\n",
              "      const buttonEl =\n",
              "        document.querySelector('#df-9a894857-7c6d-40f9-9aa4-ccac7155fef3 button.colab-df-convert');\n",
              "      buttonEl.style.display =\n",
              "        google.colab.kernel.accessAllowed ? 'block' : 'none';\n",
              "\n",
              "      async function convertToInteractive(key) {\n",
              "        const element = document.querySelector('#df-9a894857-7c6d-40f9-9aa4-ccac7155fef3');\n",
              "        const dataTable =\n",
              "          await google.colab.kernel.invokeFunction('convertToInteractive',\n",
              "                                                    [key], {});\n",
              "        if (!dataTable) return;\n",
              "\n",
              "        const docLinkHtml = 'Like what you see? Visit the ' +\n",
              "          '<a target=\"_blank\" href=https://colab.research.google.com/notebooks/data_table.ipynb>data table notebook</a>'\n",
              "          + ' to learn more about interactive tables.';\n",
              "        element.innerHTML = '';\n",
              "        dataTable['output_type'] = 'display_data';\n",
              "        await google.colab.output.renderOutput(dataTable, element);\n",
              "        const docLink = document.createElement('div');\n",
              "        docLink.innerHTML = docLinkHtml;\n",
              "        element.appendChild(docLink);\n",
              "      }\n",
              "    </script>\n",
              "  </div>\n",
              "\n",
              "    </div>\n",
              "  </div>\n"
            ]
          },
          "metadata": {},
          "execution_count": 378
        }
      ]
    },
    {
      "cell_type": "markdown",
      "source": [
        "Ознаки з коефіцієнтами, близькими до нуля (< 1e−3):\n",
        "\n",
        "```\n",
        "windspeed(ms): \t-2.685470e-08\n",
        "```\n",
        "Вони не впливають так є одне і те саме значення windspeed тільки в іншоій розмірності.\n"
      ],
      "metadata": {
        "id": "m22BBPVjClW9"
      }
    },
    {
      "cell_type": "markdown",
      "source": [
        "## Висновок"
      ],
      "metadata": {
        "id": "U1KoOcG3NSso"
      }
    },
    {
      "cell_type": "markdown",
      "metadata": {
        "id": "Wg0VQz5_F0c2"
      },
      "source": [
        "\n",
        "Отже, ми подивилися, як можна стежити за адекватністю лінійної моделі, як добирати ознаки і як грамотно, за можливості не налаштовуючись на якусь конкретну порцію даних, підбирати коефіцієнт регуляризації.\n",
        "\n",
        "Варто зазначити, що за допомогою крос-валідації зручно підбирати лише невелику кількість параметрів (1, 2, максимум 3), тому що для кожної допустимої їх комбінації нам доводиться кілька разів навчати модель. Такий процес займає багато часу, особливо якщо потрібно навчатися на великих обсягах даних."
      ]
    }
  ]
}